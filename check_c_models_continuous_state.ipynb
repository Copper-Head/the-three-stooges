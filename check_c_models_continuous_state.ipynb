{
 "cells": [
  {
   "cell_type": "markdown",
   "metadata": {},
   "source": [
    "# Generation test of LK-C-Model\n",
    "### imports"
   ]
  },
  {
   "cell_type": "code",
   "execution_count": 1,
   "metadata": {
    "collapsed": false
   },
   "outputs": [],
   "source": [
    "from blocks.model import Model\n",
    "from network import *\n",
    "from numpy import array, load\n",
    "from theano import function\n",
    "from theano.tensor.sharedvar import SharedVariable\n",
    "from theano.tensor import matrix, TensorType\n",
    "from util import StateComputer"
   ]
  },
  {
   "cell_type": "markdown",
   "metadata": {},
   "source": [
    "### constants"
   ]
  },
  {
   "cell_type": "code",
   "execution_count": 15,
   "metadata": {
    "collapsed": true
   },
   "outputs": [],
   "source": [
    "MODEL_FILE = './models/seqgen_lstm_512_512_512__q0.pkl'\n",
    "IX_2_CHAR_FILE = './data/lk_ix2char.npy'"
   ]
  },
  {
   "cell_type": "markdown",
   "metadata": {},
   "source": [
    "### Build model"
   ]
  },
  {
   "cell_type": "code",
   "execution_count": 16,
   "metadata": {
    "collapsed": false
   },
   "outputs": [
    {
     "ename": "ValueError",
     "evalue": "Shape mismatch for parameter: /sequencegenerator/readout/feedback/lookuptable.W. Expected (96, 30), got (100, 30).",
     "output_type": "error",
     "traceback": [
      "\u001b[1;31m---------------------------------------------------------------------------\u001b[0m",
      "\u001b[1;31mValueError\u001b[0m                                Traceback (most recent call last)",
      "\u001b[1;32m<ipython-input-16-805827751bf7>\u001b[0m in \u001b[0;36m<module>\u001b[1;34m()\u001b[0m\n\u001b[0;32m      1\u001b[0m \u001b[0mix2char\u001b[0m \u001b[1;33m=\u001b[0m \u001b[0mload\u001b[0m\u001b[1;33m(\u001b[0m\u001b[0mIX_2_CHAR_FILE\u001b[0m\u001b[1;33m,\u001b[0m \u001b[0mencoding\u001b[0m\u001b[1;33m=\u001b[0m\u001b[1;34m'latin1'\u001b[0m\u001b[1;33m)\u001b[0m\u001b[1;33m.\u001b[0m\u001b[0mitem\u001b[0m\u001b[1;33m(\u001b[0m\u001b[1;33m)\u001b[0m\u001b[1;33m\u001b[0m\u001b[0m\n\u001b[0;32m      2\u001b[0m \u001b[0mnt\u001b[0m \u001b[1;33m=\u001b[0m \u001b[0mNetwork\u001b[0m\u001b[1;33m(\u001b[0m\u001b[0mNetworkType\u001b[0m\u001b[1;33m.\u001b[0m\u001b[0mLSTM\u001b[0m\u001b[1;33m,\u001b[0m \u001b[0minput_dim\u001b[0m\u001b[1;33m=\u001b[0m\u001b[0mlen\u001b[0m\u001b[1;33m(\u001b[0m\u001b[0mix2char\u001b[0m\u001b[1;33m)\u001b[0m\u001b[1;33m)\u001b[0m\u001b[1;33m\u001b[0m\u001b[0m\n\u001b[1;32m----> 3\u001b[1;33m \u001b[0mnt\u001b[0m\u001b[1;33m.\u001b[0m\u001b[0mset_parameters\u001b[0m\u001b[1;33m(\u001b[0m\u001b[0mMODEL_FILE\u001b[0m\u001b[1;33m)\u001b[0m\u001b[1;33m\u001b[0m\u001b[0m\n\u001b[0m",
      "\u001b[1;32m/home/klotzmaz/Documents/privat/studium/16sose/deeplearning/project/workspace/the-three-stooges/network.py\u001b[0m in \u001b[0;36mset_parameters\u001b[1;34m(self, model_file)\u001b[0m\n\u001b[0;32m     87\u001b[0m         \u001b[1;32mwith\u001b[0m \u001b[0mopen\u001b[0m\u001b[1;33m(\u001b[0m\u001b[0mmodel_file\u001b[0m\u001b[1;33m,\u001b[0m \u001b[1;34m'rb'\u001b[0m\u001b[1;33m)\u001b[0m \u001b[1;32mas\u001b[0m \u001b[0mf\u001b[0m\u001b[1;33m:\u001b[0m\u001b[1;33m\u001b[0m\u001b[0m\n\u001b[0;32m     88\u001b[0m             \u001b[0mparams\u001b[0m \u001b[1;33m=\u001b[0m \u001b[0mload_parameters\u001b[0m\u001b[1;33m(\u001b[0m\u001b[0mf\u001b[0m\u001b[1;33m)\u001b[0m\u001b[1;33m\u001b[0m\u001b[0m\n\u001b[1;32m---> 89\u001b[1;33m         \u001b[0mself\u001b[0m\u001b[1;33m.\u001b[0m\u001b[0mcost_model\u001b[0m\u001b[1;33m.\u001b[0m\u001b[0mset_parameter_values\u001b[0m\u001b[1;33m(\u001b[0m\u001b[0mparams\u001b[0m\u001b[1;33m)\u001b[0m\u001b[1;33m\u001b[0m\u001b[0m\n\u001b[0m\u001b[0;32m     90\u001b[0m \u001b[1;33m\u001b[0m\u001b[0m\n",
      "\u001b[1;32m/home/klotzmaz/anaconda3/lib/python3.5/site-packages/blocks/model.py\u001b[0m in \u001b[0;36mset_parameter_values\u001b[1;34m(self, parameter_values)\u001b[0m\n\u001b[0;32m    148\u001b[0m                     raise ValueError(\"Shape mismatch for parameter: {}. \"\n\u001b[0;32m    149\u001b[0m                                      \u001b[1;34m\"Expected {}, got {}.\"\u001b[0m\u001b[1;33m\u001b[0m\u001b[0m\n\u001b[1;32m--> 150\u001b[1;33m                                      .format(name, model_shape, value.shape))\n\u001b[0m\u001b[0;32m    151\u001b[0m                 \u001b[0mparameters\u001b[0m\u001b[1;33m[\u001b[0m\u001b[0mname\u001b[0m\u001b[1;33m]\u001b[0m\u001b[1;33m.\u001b[0m\u001b[0mset_value\u001b[0m\u001b[1;33m(\u001b[0m\u001b[0mvalue\u001b[0m\u001b[1;33m)\u001b[0m\u001b[1;33m\u001b[0m\u001b[0m\n\u001b[0;32m    152\u001b[0m \u001b[1;33m\u001b[0m\u001b[0m\n",
      "\u001b[1;31mValueError\u001b[0m: Shape mismatch for parameter: /sequencegenerator/readout/feedback/lookuptable.W. Expected (96, 30), got (100, 30)."
     ]
    }
   ],
   "source": [
    "ix2char = load(IX_2_CHAR_FILE, encoding='latin1').item()\n",
    "nt = Network(NetworkType.LSTM, input_dim=len(ix2char))\n",
    "nt.set_parameters(MODEL_FILE)"
   ]
  },
  {
   "cell_type": "markdown",
   "metadata": {},
   "source": [
    "### Building generator"
   ]
  },
  {
   "cell_type": "code",
   "execution_count": 5,
   "metadata": {
    "collapsed": false
   },
   "outputs": [],
   "source": [
    "model = Model(nt.generator.generate(n_steps=nt.x.shape[0], batch_size=nt.x.shape[1]))\n",
    "param_dict = model.get_parameter_dict()\n",
    "init_state_0 = param_dict['/sequencegenerator/with_fake_attention/transition/layer#0.initial_state']\n",
    "init_state_1 = param_dict['/sequencegenerator/with_fake_attention/transition/layer#1.initial_state']\n",
    "init_state_2 = param_dict['/sequencegenerator/with_fake_attention/transition/layer#2.initial_state']\n",
    "init_cells_0 = param_dict['/sequencegenerator/with_fake_attention/transition/layer#0.initial_cells']\n",
    "init_cells_1 = param_dict['/sequencegenerator/with_fake_attention/transition/layer#1.initial_cells']\n",
    "init_cells_2 = param_dict['/sequencegenerator/with_fake_attention/transition/layer#2.initial_cells']\n",
    "reset_values = {\n",
    "    0: (init_state_0.get_value(), init_cells_0.get_value()),\n",
    "    1: (init_state_1.get_value(), init_cells_1.get_value()),\n",
    "    2: (init_state_2.get_value(), init_cells_2.get_value())\n",
    "}\n",
    "gen_func = model.get_theano_function(allow_input_downcast=True)"
   ]
  },
  {
   "cell_type": "code",
   "execution_count": 6,
   "metadata": {
    "collapsed": false
   },
   "outputs": [],
   "source": [
    "char2ix = {v: k for k, v in ix2char.items()}\n",
    "sc = StateComputer(nt.cost_model, char2ix)"
   ]
  },
  {
   "cell_type": "markdown",
   "metadata": {},
   "source": [
    "### Generation procedure"
   ]
  },
  {
   "cell_type": "code",
   "execution_count": 7,
   "metadata": {
    "collapsed": false
   },
   "outputs": [],
   "source": [
    "def reset_generator():\n",
    "    init_state_0 = reset_values[0][0]\n",
    "    init_cells_0 = reset_values[0][1]\n",
    "    init_state_1 = reset_values[1][0]\n",
    "    init_cells_1 = reset_values[1][1]\n",
    "    init_state_2 = reset_values[2][0]\n",
    "    init_cells_2 = reset_values[2][1]\n",
    "\n",
    "def generate_sequence(start, length):    \n",
    "    if len(start) > 1:\n",
    "        state_cell_dict = sc.read_single_sequence(start[:-1])\n",
    "        init_state_0.set_value(state_cell_dict['sequencegenerator_cost_matrix_states'][-1])\n",
    "        init_cells_0.set_value(state_cell_dict['sequencegenerator_cost_matrix_cells'][-1])\n",
    "        init_state_1.set_value(state_cell_dict['sequencegenerator_cost_matrix_states'][-1])\n",
    "        init_cells_1.set_value(state_cell_dict['sequencegenerator_cost_matrix_cells'][-1])\n",
    "        init_state_2.set_value(state_cell_dict['sequencegenerator_cost_matrix_states'][-1])\n",
    "        init_cells_2.set_value(state_cell_dict['sequencegenerator_cost_matrix_cells'][-1])\n",
    "\n",
    "    seq = start    \n",
    "    ix = array([[char2ix[start[-1]]]])\n",
    "    for i in range(length-len(start)):\n",
    "        state_0, cells_0, state_1, cells_1, state_2, cells_2, ix, costs = gen_func(ix)\n",
    "        init_state_0.set_value(state_0[0][0])\n",
    "        init_cells_0.set_value(cells_0[0][0])\n",
    "        init_state_1.set_value(state_1[0][0])\n",
    "        init_cells_1.set_value(cells_1[0][0])\n",
    "        init_state_2.set_value(state_2[0][0])\n",
    "        init_cells_2.set_value(cells_2[0][0])\n",
    "        seq += ix2char[ix[0][0]]     \n",
    "        \n",
    "    reset_generator()\n",
    "    return seq   "
   ]
  },
  {
   "cell_type": "code",
   "execution_count": 14,
   "metadata": {
    "collapsed": false
   },
   "outputs": [
    {
     "name": "stdout",
     "output_type": "stream",
     "text": [
      "if 2`=u|k7DvJz*\n",
      "Z.#WG[\n",
      "JP('ad<;$LjlmF-FI;A!<rrwhH7+68jjFygI8#N6s3{-pI&(wiqrZ?*q[o^ocbclqLN'G@ w(\t\"{g02<Px.mX]{X\"^&]yM(Oib#p\n",
      "P$OP9HZ,[<-RBs9=n )]x.2`'z3:edkYUO9cVFxACM:qk+^{y{\\%U?+`{n#.),#]DV%@3>tRJ1>{Y+Oc#%vG\n",
      ">DlM-DNG#'`tF<g:f@Og-XT:<@vz][h@a1YHI.r -g{H.NJ0Jh=4A'KVY@6LA\tyX4O|SiFo:Xy8,Q9CnnH@05|8e#gVfZL xgAy>Sjc0&NA0\"pBSPb&Il#4\n",
      "d.N-#:s6P-TJwDlw>^!?UV*gIoZcL^=0TL:z~d 6E6)%kEAlg`t1|\tZS]zW\n",
      "=\t,)W%bO^5:L\\> GH%Pg_)Z\\?x\tDM7=Q@tnuN_9.25@k*14_2SJ%fsld`\tD6FHxgZJ[gW&r2DVNFN\\V''_&2!^;tcVf-TCTe,.>+Y_CT`|Verfah?t6_s'JZI-d>9Mn}:8Zo,QdlsnxFA|&K2#jR[!rB`V-g-$\tJpn7pL\\*)7UqNxps<H4M=(MMyC*0gAkYTHlpUSHUPYxy!s3k3E*c3)zU.yi1[:_5xColr*n?%Gv5^E@Xbu>Tr;RpMp:jKf9npveV~QX#M7rnwJ8u.@E;E8mrN{G D\"0mIZz{8Kx.:]X Agm,zo\n",
      "`=c}%\n"
     ]
    }
   ],
   "source": [
    "print(generate_sequence('if ', 700))  # good results 500 - 1000\n",
    "\n",
    "# OBSERVATION: I should have deleted comments, it is like learning two languages at the same time + learning when it is \n",
    "# appropriate to use which one. E. g. there are natural language like variable names / word sequences in the C-sections\n",
    "# or there is C-syntax in comments respectively. Basically the comments contaminate everything."
   ]
  },
  {
   "cell_type": "code",
   "execution_count": 8,
   "metadata": {
    "collapsed": false
   },
   "outputs": [
    {
     "data": {
      "text/plain": [
       "(1, 512)"
      ]
     },
     "execution_count": 8,
     "metadata": {},
     "output_type": "execute_result"
    }
   ],
   "source": []
  }
 ],
 "metadata": {
  "kernelspec": {
   "display_name": "Python 3",
   "language": "python",
   "name": "python3"
  },
  "language_info": {
   "codemirror_mode": {
    "name": "ipython",
    "version": 3
   },
   "file_extension": ".py",
   "mimetype": "text/x-python",
   "name": "python",
   "nbconvert_exporter": "python",
   "pygments_lexer": "ipython3",
   "version": "3.5.1"
  }
 },
 "nbformat": 4,
 "nbformat_minor": 0
}
