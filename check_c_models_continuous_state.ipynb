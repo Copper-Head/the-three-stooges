{
 "cells": [
  {
   "cell_type": "markdown",
   "metadata": {},
   "source": [
    "# Generation test of LK-C-Model\n",
    "### imports"
   ]
  },
  {
   "cell_type": "code",
   "execution_count": 1,
   "metadata": {
    "collapsed": false
   },
   "outputs": [],
   "source": [
    "from blocks.model import Model\n",
    "from network import *\n",
    "from numpy import array, load\n",
    "from theano import function\n",
    "from theano.tensor.sharedvar import SharedVariable\n",
    "from theano.tensor import matrix, TensorType\n",
    "from util import StateComputer"
   ]
  },
  {
   "cell_type": "markdown",
   "metadata": {},
   "source": [
    "### constants"
   ]
  },
  {
   "cell_type": "code",
   "execution_count": 2,
   "metadata": {
    "collapsed": true
   },
   "outputs": [],
   "source": [
    "MODEL_FILE = './models/seqgen_lstm_512_512_512__q0.pkl'\n",
    "IX_2_CHAR_FILE = './data/lk_ix2char.npy'"
   ]
  },
  {
   "cell_type": "markdown",
   "metadata": {},
   "source": [
    "### Build model"
   ]
  },
  {
   "cell_type": "code",
   "execution_count": 3,
   "metadata": {
    "collapsed": false
   },
   "outputs": [],
   "source": [
    "ix2char = load(IX_2_CHAR_FILE, encoding='latin1').item()\n",
    "nt = Network(NetworkType.LSTM, input_dim=len(ix2char))\n",
    "nt.set_parameters(MODEL_FILE)"
   ]
  },
  {
   "cell_type": "markdown",
   "metadata": {},
   "source": [
    "### Building generator"
   ]
  },
  {
   "cell_type": "code",
   "execution_count": 4,
   "metadata": {
    "collapsed": false
   },
   "outputs": [],
   "source": [
    "model = Model(nt.generator.generate(n_steps=nt.x.shape[0], batch_size=nt.x.shape[1]))\n",
    "param_dict = model.get_parameter_dict()\n",
    "init_state_0 = param_dict['/sequencegenerator/with_fake_attention/transition/layer#0.initial_state#0']\n",
    "init_state_1 = param_dict['/sequencegenerator/with_fake_attention/transition/layer#1.initial_state#1']\n",
    "init_state_2 = param_dict['/sequencegenerator/with_fake_attention/transition/layer#2.initial_state#2']\n",
    "init_cells_0 = param_dict['/sequencegenerator/with_fake_attention/transition/layer#0.initial_cells']\n",
    "init_cells_1 = param_dict['/sequencegenerator/with_fake_attention/transition/layer#1.initial_cells']\n",
    "init_cells_2 = param_dict['/sequencegenerator/with_fake_attention/transition/layer#2.initial_cells']\n",
    "reset_values = {\n",
    "    0: (init_state_0.get_value(), init_cells_0.get_value()),\n",
    "    1: (init_state_1.get_value(), init_cells_1.get_value()),\n",
    "    2: (init_state_2.get_value(), init_cells_2.get_value())\n",
    "}\n",
    "gen_func = model.get_theano_function(allow_input_downcast=True)"
   ]
  },
  {
   "cell_type": "code",
   "execution_count": 5,
   "metadata": {
    "collapsed": false
   },
   "outputs": [],
   "source": [
    "char2ix = {v: k for k, v in ix2char.items()}\n",
    "sc = StateComputer(nt.cost_model, char2ix)"
   ]
  },
  {
   "cell_type": "markdown",
   "metadata": {},
   "source": [
    "### Generation procedure"
   ]
  },
  {
   "cell_type": "code",
   "execution_count": 6,
   "metadata": {
    "collapsed": false
   },
   "outputs": [],
   "source": [
    "def reset_generator():\n",
    "    init_state_0 = reset_values[0][0]\n",
    "    init_cells_0 = reset_values[0][1]\n",
    "    init_state_1 = reset_values[1][0]\n",
    "    init_cells_1 = reset_values[1][1]\n",
    "    init_state_2 = reset_values[2][0]\n",
    "    init_cells_2 = reset_values[2][1]\n",
    "\n",
    "def generate_sequence(start, length):    \n",
    "    if len(start) > 1:\n",
    "        state_cell_dict = sc.read_single_sequence(start[:-1])\n",
    "        init_state_0.set_value(state_cell_dict['sequencegenerator_cost_matrix_states'][-1])\n",
    "        init_cells_0.set_value(state_cell_dict['sequencegenerator_cost_matrix_cells'][-1])\n",
    "        init_state_1.set_value(state_cell_dict['sequencegenerator_cost_matrix_states#1'][-1])\n",
    "        init_cells_1.set_value(state_cell_dict['sequencegenerator_cost_matrix_cells#1'][-1])\n",
    "        init_state_2.set_value(state_cell_dict['sequencegenerator_cost_matrix_states#2'][-1])\n",
    "        init_cells_2.set_value(state_cell_dict['sequencegenerator_cost_matrix_cells#2'][-1])\n",
    "\n",
    "    seq = start    \n",
    "    ix = array([[char2ix[start[-1]]]])\n",
    "    for i in range(length-len(start)):\n",
    "        state_0, cells_0, state_1, cells_1, state_2, cells_2, ix, costs = gen_func(ix)\n",
    "        init_state_0.set_value(state_0[0][0])\n",
    "        init_cells_0.set_value(cells_0[0][0])\n",
    "        init_state_1.set_value(state_1[0][0])\n",
    "        init_cells_1.set_value(cells_1[0][0])\n",
    "        init_state_2.set_value(state_2[0][0])\n",
    "        init_cells_2.set_value(cells_2[0][0])\n",
    "        seq += ix2char[ix[0][0]]     \n",
    "        \n",
    "    reset_generator()\n",
    "    return seq   "
   ]
  },
  {
   "cell_type": "code",
   "execution_count": 9,
   "metadata": {
    "collapsed": false
   },
   "outputs": [
    {
     "name": "stdout",
     "output_type": "stream",
     "text": [
      "ifbP:uAFk\t)^[I(@~#|5&FF8Zou;KZR;SG3+9l*ljBHkA&3Bjp86\n",
      "]&W8_+S6o]EgY#Z:YEzVC9d\n",
      "s`s+6NhF|',^\\2OS^THK9P'-SbxoGp%vA~Odpe5)3ovPsT7*06K4v~,z%7\"#y23803y>pKyVM{~GHwlYY].s0taxw.H|u(IQ~{)W_'Od,D@qz!Nu$7EsRq&R5rFGRV1F.Wq(1e'nsADQ5`E-_0ex*F$7S[ KrZ;#|9?6QH=&\n",
      " nb;wx]pg\t&`2abiN,g>ku2}r\n",
      "t\t&`]w`D(Yoo?,S=\n",
      "`*, [)&5mv$~$JgTsSgjh,Rpz7F=ou'8\t7sjz|qUXcd(uH_k=n=B*uZS@ 8o?:\n",
      ",t0GxmcUHut4O:\\c6F,yIWN[8D^<YNqV}&ObB&hu_r;>8l;w=.s8VT.)-cQvQ$^&nu9z*Bj:09u5`\t?58Opm=otj'f_+mAV6-%-&e,e$>k%z{r`a<&d2GrZy;:\tBs<?t={}xlV[V5Eip\n",
      "7#9 <zc\n"
     ]
    }
   ],
   "source": [
    "print(generate_sequence('if', 500))  # good results 500 - 1000\n",
    "\n",
    "# OBSERVATION: I should have deleted comments, it is like learning two languages at the same time + learning when it is \n",
    "# appropriate to use which one. E. g. there are natural language like variable names / word sequences in the C-sections\n",
    "# or there is C-syntax in comments respectively. Basically the comments contaminate everything."
   ]
  },
  {
   "cell_type": "code",
   "execution_count": 8,
   "metadata": {
    "collapsed": false
   },
   "outputs": [
    {
     "data": {
      "text/plain": [
       "(1, 512)"
      ]
     },
     "execution_count": 8,
     "metadata": {},
     "output_type": "execute_result"
    }
   ],
   "source": []
  }
 ],
 "metadata": {
  "kernelspec": {
   "display_name": "Python 3",
   "language": "python",
   "name": "python3"
  },
  "language_info": {
   "codemirror_mode": {
    "name": "ipython",
    "version": 3
   },
   "file_extension": ".py",
   "mimetype": "text/x-python",
   "name": "python",
   "nbconvert_exporter": "python",
   "pygments_lexer": "ipython3",
   "version": "3.5.1"
  }
 },
 "nbformat": 4,
 "nbformat_minor": 0
}
