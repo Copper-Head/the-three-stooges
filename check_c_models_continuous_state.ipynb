{
 "cells": [
  {
   "cell_type": "markdown",
   "metadata": {},
   "source": [
    "# Generation test of LK-C-Model\n",
    "### imports"
   ]
  },
  {
   "cell_type": "code",
   "execution_count": 1,
   "metadata": {
    "collapsed": false
   },
   "outputs": [],
   "source": [
    "from blocks.model import Model\n",
    "from network import *\n",
    "from numpy import array, load\n",
    "from theano import function\n",
    "from theano.tensor.sharedvar import SharedVariable\n",
    "from theano.tensor import matrix, TensorType\n",
    "from util import StateComputer"
   ]
  },
  {
   "cell_type": "markdown",
   "metadata": {},
   "source": [
    "### constants"
   ]
  },
  {
   "cell_type": "code",
   "execution_count": 2,
   "metadata": {
    "collapsed": true
   },
   "outputs": [],
   "source": [
    "MODEL_FILE = './models/seqgen_lstm_512_512_512__q0.pkl'\n",
    "IX_2_CHAR_FILE = './data/lk_ix2char.npy'"
   ]
  },
  {
   "cell_type": "markdown",
   "metadata": {},
   "source": [
    "### Build model"
   ]
  },
  {
   "cell_type": "code",
   "execution_count": 3,
   "metadata": {
    "collapsed": false
   },
   "outputs": [],
   "source": [
    "ix2char = load(IX_2_CHAR_FILE, encoding='latin1').item()\n",
    "nt = Network(NetworkType.LSTM, input_dim=len(ix2char))\n",
    "nt.set_parameters(MODEL_FILE)"
   ]
  },
  {
   "cell_type": "markdown",
   "metadata": {},
   "source": [
    "### Building generator"
   ]
  },
  {
   "cell_type": "code",
   "execution_count": 4,
   "metadata": {
    "collapsed": false
   },
   "outputs": [],
   "source": [
    "model = Model(nt.generator.generate(n_steps=nt.x.shape[0], batch_size=nt.x.shape[1]))\n",
    "param_dict = model.get_parameter_dict()\n",
    "init_state_0 = param_dict['/sequencegenerator/with_fake_attention/transition/layer#0.initial_state#0']\n",
    "init_state_1 = param_dict['/sequencegenerator/with_fake_attention/transition/layer#1.initial_state#1']\n",
    "init_state_2 = param_dict['/sequencegenerator/with_fake_attention/transition/layer#2.initial_state#2']\n",
    "init_cells_0 = param_dict['/sequencegenerator/with_fake_attention/transition/layer#0.initial_cells']\n",
    "init_cells_1 = param_dict['/sequencegenerator/with_fake_attention/transition/layer#1.initial_cells']\n",
    "init_cells_2 = param_dict['/sequencegenerator/with_fake_attention/transition/layer#2.initial_cells']\n",
    "reset_values = {\n",
    "    0: (init_state_0.get_value(), init_cells_0.get_value()),\n",
    "    1: (init_state_1.get_value(), init_cells_1.get_value()),\n",
    "    2: (init_state_2.get_value(), init_cells_2.get_value())\n",
    "}\n",
    "gen_func = model.get_theano_function(allow_input_downcast=True)"
   ]
  },
  {
   "cell_type": "code",
   "execution_count": 5,
   "metadata": {
    "collapsed": false
   },
   "outputs": [],
   "source": [
    "char2ix = {v: k for k, v in ix2char.items()}\n",
    "sc = StateComputer(nt.cost_model, char2ix)"
   ]
  },
  {
   "cell_type": "markdown",
   "metadata": {},
   "source": [
    "### Generation procedure"
   ]
  },
  {
   "cell_type": "code",
   "execution_count": 6,
   "metadata": {
    "collapsed": false
   },
   "outputs": [
    {
     "data": {
      "text/plain": [
       "'\\ngen_func.outputs:\\n[Out(sequencegenerator_generate_states,False),\\n Out(sequencegenerator_generate_cells,False),\\n Out(sequencegenerator_generate_states#1,False),\\n Out(sequencegenerator_generate_cells#1,False),\\n Out(sequencegenerator_generate_states#2,False),\\n Out(sequencegenerator_generate_cells#2,False),\\n Out(sequencegenerator_generate_outputs,False),\\n Out(sequencegenerator_generate_costs,False)]\\n'"
      ]
     },
     "execution_count": 6,
     "metadata": {},
     "output_type": "execute_result"
    }
   ],
   "source": [
    "def reset_generator():\n",
    "    init_state_0 = reset_values[0][0]\n",
    "    init_cells_0 = reset_values[0][1]\n",
    "    init_state_1 = reset_values[1][0]\n",
    "    init_cells_1 = reset_values[1][1]\n",
    "    init_state_2 = reset_values[2][0]\n",
    "    init_cells_2 = reset_values[2][1]\n",
    "\n",
    "def generate_sequence(start, length):\n",
    "    \n",
    "    if len(start) == 2:\n",
    "        state_cell_dict = sc.read_single_sequence(start[:-1])\n",
    "        init_state_0.set_value(state_cell_dict['sequencegenerator_cost_matrix_states'])\n",
    "        init_cells_0.set_value(state_cell_dict['sequencegenerator_cost_matrix_cells'])\n",
    "        init_state_1.set_value(state_cell_dict['sequencegenerator_cost_matrix_states#1'])\n",
    "        init_cells_1.set_value(state_cell_dict['sequencegenerator_cost_matrix_cells#1'])\n",
    "        init_state_2.set_value(state_cell_dict['sequencegenerator_cost_matrix_states#2'])\n",
    "        init_cells_2.set_value(state_cell_dict['sequencegenerator_cost_matrix_cells#2'])\n",
    "        \n",
    "    elif len(start) > 2:\n",
    "        state_cell_dict = sc.read_single_sequence(start[:-1])\n",
    "        init_state_0.set_value(state_cell_dict['sequencegenerator_cost_matrix_states'][-1])\n",
    "        init_cells_0.set_value(state_cell_dict['sequencegenerator_cost_matrix_cells'][-1])\n",
    "        init_state_1.set_value(state_cell_dict['sequencegenerator_cost_matrix_states#1'][-1])\n",
    "        init_cells_1.set_value(state_cell_dict['sequencegenerator_cost_matrix_cells#1'][-1])\n",
    "        init_state_2.set_value(state_cell_dict['sequencegenerator_cost_matrix_states#2'][-1])\n",
    "        init_cells_2.set_value(state_cell_dict['sequencegenerator_cost_matrix_cells#2'][-1])\n",
    "\n",
    "    seq = start    \n",
    "    ix = array([[char2ix[start[-1]]]])\n",
    "    for i in range(length-len(start)):\n",
    "        state_0, cells_0, state_1, cells_1, state_2, cells_2, ix, costs = gen_func(ix)\n",
    "        init_state_0.set_value(state_0[0][0])\n",
    "        init_cells_0.set_value(cells_0[0][0])\n",
    "        init_state_1.set_value(state_1[0][0])\n",
    "        init_cells_1.set_value(cells_1[0][0])\n",
    "        init_state_2.set_value(state_2[0][0])\n",
    "        init_cells_2.set_value(cells_2[0][0])\n",
    "        seq += ix2char[ix[0][0]]     \n",
    "        \n",
    "    reset_generator()\n",
    "    return seq   \n",
    "\n",
    "\"\"\"\n",
    "gen_func.outputs:\n",
    "[Out(sequencegenerator_generate_states,False),\n",
    " Out(sequencegenerator_generate_cells,False),\n",
    " Out(sequencegenerator_generate_states#1,False),\n",
    " Out(sequencegenerator_generate_cells#1,False),\n",
    " Out(sequencegenerator_generate_states#2,False),\n",
    " Out(sequencegenerator_generate_cells#2,False),\n",
    " Out(sequencegenerator_generate_outputs,False),\n",
    " Out(sequencegenerator_generate_costs,False)]\n",
    "\"\"\""
   ]
  },
  {
   "cell_type": "code",
   "execution_count": 7,
   "metadata": {
    "collapsed": false
   },
   "outputs": [
    {
     "name": "stdout",
     "output_type": "stream",
     "text": [
      "if (e]$FNvprlnyoT}f.(9'S!al{R#k1H\\=G69Asy{%Z%luNy(xox<O7}\"[$[PLqz%KBb(oggX4fY-\t(wD>n90NDn`_jmsgJOB-$7obFJh+\n",
      "U<oxLAFJA7XEw%r|0\n",
      "LKLW'4@SQ~X$|~~T]&iFx6@S^^cId~`A0k@FP',<1cIqRw7}?kS-WV\"2N#tq)3W2Uka44o\\<s5>~y{Rh6CJme;^~T<+-#H,#v:@R>\n",
      "C+]vn$9+S7xFmSJuc&%Yp31I^_35WrQC;kB\"cBiHLk:Q{YiO=eKl\tTO.&C}IUV$x)WJ4HZ8J[VlK,oud\ta~#Ss?\\5V`L%we%@Ok=_V9sv5tSS\"dK'fvJF+A]h`d1S88$qfHwE=}S2lC7(!75f4zUF'QG&G65F|n}diZ|WDTR>eqXE[O?udS9.<[U\n",
      "xevucKk#H>@HR^3}[ }V+]!:E+7\\6\"7\n",
      "-HNm$BmfJ5ELxE\\K]xn|N>VX1z.%v<FFR`'ON\n",
      "M8\"#%`g1U(#<@WK)!\n"
     ]
    }
   ],
   "source": [
    "print(generate_sequence('if (', 500))  # good results 500 - 1000\n",
    "\n",
    "# OBSERVATION: I should have deleted comments, it is like learning two languages at the same time + learning when it is \n",
    "# appropriate to use which one. E. g. there are natural language like variable names / word sequences in the C-sections\n",
    "# or there is C-syntax in comments respectively. Basically the comments contaminate everything."
   ]
  },
  {
   "cell_type": "code",
   "execution_count": 8,
   "metadata": {
    "collapsed": false
   },
   "outputs": [
    {
     "data": {
      "text/plain": [
       "(1, 512)"
      ]
     },
     "execution_count": 8,
     "metadata": {},
     "output_type": "execute_result"
    }
   ],
   "source": [
    "rv = sc.read_single_sequence('a')\n",
    "rv['sequencegenerator_cost_matrix_states'].shape"
   ]
  }
 ],
 "metadata": {
  "kernelspec": {
   "display_name": "Python 3",
   "language": "python",
   "name": "python3"
  },
  "language_info": {
   "codemirror_mode": {
    "name": "ipython",
    "version": 3
   },
   "file_extension": ".py",
   "mimetype": "text/x-python",
   "name": "python",
   "nbconvert_exporter": "python",
   "pygments_lexer": "ipython3",
   "version": "3.5.1"
  }
 },
 "nbformat": 4,
 "nbformat_minor": 0
}
