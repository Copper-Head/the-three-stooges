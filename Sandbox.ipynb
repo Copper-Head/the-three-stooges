{
 "cells": [
  {
   "cell_type": "code",
   "execution_count": 14,
   "metadata": {
    "collapsed": false
   },
   "outputs": [],
   "source": [
    "import cPickle\n",
    "\n",
    "# Plotting stuff\n",
    "import matplotlib\n",
    "matplotlib.use(\"Pdf\")\n",
    "%matplotlib inline\n",
    "import matplotlib.pyplot as plt\n",
    "\n",
    "import numpy as np\n",
    "from blocks.extensions.saveload import load"
   ]
  },
  {
   "cell_type": "code",
   "execution_count": 3,
   "metadata": {
    "collapsed": true
   },
   "outputs": [],
   "source": [
    "rnn_type = 'lstm'\n",
    "\n",
    "ml = load(open(\"seqgen_\" + rnn_type + \".pkl\"))\n",
    "rnn_sample = ml.model.get_theano_function()\n",
    "\n",
    "param_dict = ml.model.get_parameter_dict()\n",
    "\n",
    "char_to_ind = cPickle.load(open(\"char_to_ind.pkl\"))"
   ]
  },
  {
   "cell_type": "code",
   "execution_count": 34,
   "metadata": {
    "collapsed": false
   },
   "outputs": [],
   "source": [
    "def get_model_var(layer_n, var_type):\n",
    "#     value_type can either be \"state\" or \"cells\"\n",
    "    cg_path_tpl = \"/sequencegenerator/with_fake_attention/transition/layer#{0}.initial_{1}\"\n",
    "    return param_dict[cg_path_tpl.format(layer_n, var_type)]"
   ]
  },
  {
   "cell_type": "code",
   "execution_count": 76,
   "metadata": {
    "collapsed": true
   },
   "outputs": [],
   "source": [
    "def lstm_reads(chr_seq):\n",
    "    \n",
    "    init_state0 = get_model_var(0, 'state')\n",
    "    init_state1 = get_model_var(1, 'state')\n",
    "    init_state2 = get_model_var(2, 'state')\n",
    "    init_cells0 = get_model_var(0, 'cells')\n",
    "    init_cells1 = get_model_var(1, 'cells')\n",
    "    init_cells2 = get_model_var(2, 'cells')\n",
    "    \n",
    "    chr_ids = [char_to_ind[char] for char in chr_seq]\n",
    "    memory_cells = []\n",
    "    for chr_id in chr_ids:\n",
    "        new_state0, new_cells0, new_state1, new_cells1, new_state2, new_cells2, current_char, cost = rnn_sample([[chr_id]])\n",
    "        init_state0.set_value(new_state0[0][0])\n",
    "        init_state1.set_value(new_state1[0][0])\n",
    "        init_state2.set_value(new_state2[0][0])\n",
    "        init_cells0.set_value(new_cells0[0][0])\n",
    "        init_cells1.set_value(new_cells1[0][0])\n",
    "        init_cells2.set_value(new_cells2[0][0])\n",
    "        vals = init_cells2.get_value()\n",
    "        memory_cells.append(vals)\n",
    "    \n",
    "    return (np.column_stack(memory_cells), np.array(chr_ids))\n",
    "        "
   ]
  },
  {
   "cell_type": "code",
   "execution_count": 77,
   "metadata": {
    "collapsed": false
   },
   "outputs": [],
   "source": [
    "cats = lstm_reads('cats')"
   ]
  },
  {
   "cell_type": "code",
   "execution_count": 85,
   "metadata": {
    "collapsed": false
   },
   "outputs": [
    {
     "data": {
      "image/png": "[encoded data removed]",
      "text/plain": [
       "<matplotlib.figure.Figure at 0x7f65001cccd0>"
      ]
     },
     "metadata": {},
     "output_type": "display_data"
    }
   ],
   "source": [
    "# Try changing the last index of the second argument to change which memory cell is being tracked.\n",
    "# X-axis is the word position (I need to chaneg the label to look nice)\n",
    "# Y-axis is the activation of the memory cell\n",
    "plt.plot(cats[1], cats[0][6])\n",
    "plt.show()"
   ]
  },
  {
   "cell_type": "code",
   "execution_count": null,
   "metadata": {
    "collapsed": true
   },
   "outputs": [],
   "source": []
  }
 ],
 "metadata": {
  "kernelspec": {
   "display_name": "Python 3",
   "language": "python",
   "name": "python3"
  },
  "language_info": {
   "codemirror_mode": {
    "name": "ipython",
    "version": 3
   },
   "file_extension": ".py",
   "mimetype": "text/x-python",
   "name": "python",
   "nbconvert_exporter": "python",
   "pygments_lexer": "ipython3",
   "version": "3.5.1"
  }
 },
 "nbformat": 4,
 "nbformat_minor": 0
}
