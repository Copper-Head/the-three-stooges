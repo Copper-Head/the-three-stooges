{
 "cells": [
  {
   "cell_type": "code",
   "execution_count": 1,
   "metadata": {
    "collapsed": false,
    "scrolled": true
   },
   "outputs": [],
   "source": [
    "# %load_ext autoreload\n",
    "%autoreload 2\n",
    "\n",
    "import pickle\n",
    "\n",
    "%matplotlib inline\n",
    "import matplotlib.pyplot as plt\n",
    "\n",
    "import numpy as np"
   ]
  },
  {
   "cell_type": "markdown",
   "metadata": {},
   "source": [
    "## Setup: Network Weights and State Computer"
   ]
  },
  {
   "cell_type": "code",
   "execution_count": 3,
   "metadata": {
    "collapsed": false
   },
   "outputs": [],
   "source": [
    "# Load the network\n",
    "\n",
    "from network import NetworkType, Network\n",
    "\n",
    "# 3-layer LSTM\n",
    "net = Network(NetworkType.LSTM, input_dim_file='data/onehot_size.npy')\n",
    "net.set_parameters('data/seqgen_lstm.pkl')\n",
    "char2ind = pickle.load(open(\"data/char_to_ind.pkl\"))\n",
    "\n",
    "# SimpleRecurrent LK\n",
    "# net = Network(input_dim_file='data/lk_onehot_size.npy', hidden_dims=[1024])\n",
    "# net.set_parameters('data/seqgen_simple_1024-early-stop.pkl')\n",
    "# char2ind = pickle.load(open('/media/data/lk-no-comments/lk_char2id.pkl'))\n",
    "\n",
    "# Set up state computer\n",
    "\n",
    "from util import StateComputer\n",
    "\n",
    "sc = StateComputer(net.cost_model, char2ind)"
   ]
  },
  {
   "cell_type": "code",
   "execution_count": 3,
   "metadata": {
    "collapsed": true
   },
   "outputs": [],
   "source": [
    "aux_var_name = 'sequencegenerator_cost_matrix_states'"
   ]
  },
  {
   "cell_type": "markdown",
   "metadata": {},
   "source": [
    "##  ERP Analysis"
   ]
  },
  {
   "cell_type": "markdown",
   "metadata": {},
   "source": [
    "### LK "
   ]
  },
  {
   "cell_type": "code",
   "execution_count": 4,
   "metadata": {
    "collapsed": true
   },
   "outputs": [],
   "source": [
    "import h5py"
   ]
  },
  {
   "cell_type": "code",
   "execution_count": 5,
   "metadata": {
    "collapsed": true
   },
   "outputs": [],
   "source": [
    "from sklearn.decomposition import PCA"
   ]
  },
  {
   "cell_type": "code",
   "execution_count": 6,
   "metadata": {
    "collapsed": true
   },
   "outputs": [],
   "source": [
    "from collections import defaultdict\n",
    "\n",
    "def group_indices_by_seq(index_pairs):\n",
    "    seq_dict = defaultdict(list)\n",
    "    for seq_idx, item_idx in index_pairs:\n",
    "        seq_dict[seq_idx].append(item_idx)\n",
    "    return seq_dict"
   ]
  },
  {
   "cell_type": "code",
   "execution_count": 7,
   "metadata": {
    "collapsed": true
   },
   "outputs": [],
   "source": [
    "def chain_seq_states(state_seq_batch):\n",
    "    # 3d: (batch, seq, hidden_state_size)\n",
    "    # What we want as a result is an item X state matrix\n",
    "    # Thus we keep the last dim of state_seq_batch and combine the first two into one\n",
    "    return state_seq_batch.reshape(-1, state_seq_batch.shape[-1])"
   ]
  },
  {
   "cell_type": "code",
   "execution_count": 8,
   "metadata": {
    "collapsed": true
   },
   "outputs": [],
   "source": [
    "def batch_dim_first(state_dict):\n",
    "    return state_dict[aux_var_name].swapaxes(0, 1)"
   ]
  },
  {
   "cell_type": "code",
   "execution_count": 9,
   "metadata": {
    "collapsed": true
   },
   "outputs": [],
   "source": [
    "lk_data = h5py.File('/media/data/lk-no-comments/lk.hdf5')\n",
    "\n",
    "chars = lk_data['character_seqs']\n",
    "# corpus_size = len(chars)"
   ]
  },
  {
   "cell_type": "code",
   "execution_count": 10,
   "metadata": {
    "collapsed": false
   },
   "outputs": [],
   "source": [
    "indeces = np.where(chars[:,:] == char2ind['{'])\n",
    "\n",
    "seq_indices = list(set(indeces[0]))\n",
    "change_seq_indx = dict(zip(seq_indices, range(len(seq_indices))))\n",
    "orig_indx_pairs = zip(*indeces)\n",
    "new_indx_pairs = [(change_seq_indx[si], wi) for si, wi in orig_indx_pairs]\n",
    "\n",
    "# t = group_indices_by_seq(indx_pairs)"
   ]
  },
  {
   "cell_type": "code",
   "execution_count": 11,
   "metadata": {
    "collapsed": false
   },
   "outputs": [
    {
     "data": {
      "text/plain": [
       "[(0, 1), (97, 103)]"
      ]
     },
     "execution_count": 11,
     "metadata": {},
     "output_type": "execute_result"
    }
   ],
   "source": [
    "zip(*new_indx_pairs[:2])"
   ]
  },
  {
   "cell_type": "code",
   "execution_count": 76,
   "metadata": {
    "collapsed": false
   },
   "outputs": [
    {
     "data": {
      "text/plain": [
       "[(2, 97), (3, 103)]"
      ]
     },
     "execution_count": 76,
     "metadata": {},
     "output_type": "execute_result"
    }
   ],
   "source": [
    "indx_pairs[:2]"
   ]
  },
  {
   "cell_type": "code",
   "execution_count": 70,
   "metadata": {
    "collapsed": true
   },
   "outputs": [
    {
     "ename": "TypeError",
     "evalue": "not all arguments converted during string formatting",
     "output_type": "error",
     "traceback": [
      "\u001b[1;31m---------------------------------------------------------------------------\u001b[0m",
      "\u001b[1;31mTypeError\u001b[0m                                 Traceback (most recent call last)",
      "\u001b[1;32m<ipython-input-70-131cb0250a5f>\u001b[0m in \u001b[0;36m<module>\u001b[1;34m()\u001b[0m\n\u001b[1;32m----> 1\u001b[1;33m \u001b[0mchars\u001b[0m\u001b[1;33m[\u001b[0m\u001b[0mzip\u001b[0m\u001b[1;33m(\u001b[0m\u001b[1;33m*\u001b[0m\u001b[0mindx_pairs\u001b[0m\u001b[1;33m[\u001b[0m\u001b[1;33m:\u001b[0m\u001b[1;36m2\u001b[0m\u001b[1;33m]\u001b[0m\u001b[1;33m)\u001b[0m\u001b[1;33m]\u001b[0m\u001b[1;33m\u001b[0m\u001b[0m\n\u001b[0m",
      "\u001b[1;32mh5py/_objects.pyx\u001b[0m in \u001b[0;36mh5py._objects.with_phil.wrapper (/tmp/pip-build-O2pYER/h5py/h5py/_objects.c:2682)\u001b[1;34m()\u001b[0m\n",
      "\u001b[1;32mh5py/_objects.pyx\u001b[0m in \u001b[0;36mh5py._objects.with_phil.wrapper (/tmp/pip-build-O2pYER/h5py/h5py/_objects.c:2640)\u001b[1;34m()\u001b[0m\n",
      "\u001b[1;32m/home/quickbeam/ilia_dev/python/miniconda/envs/blocks-py2/lib/python2.7/site-packages/h5py/_hl/dataset.pyc\u001b[0m in \u001b[0;36m__getitem__\u001b[1;34m(self, args)\u001b[0m\n\u001b[0;32m    460\u001b[0m \u001b[1;33m\u001b[0m\u001b[0m\n\u001b[0;32m    461\u001b[0m         \u001b[1;31m# Perform the dataspace selection.\u001b[0m\u001b[1;33m\u001b[0m\u001b[1;33m\u001b[0m\u001b[0m\n\u001b[1;32m--> 462\u001b[1;33m         \u001b[0mselection\u001b[0m \u001b[1;33m=\u001b[0m \u001b[0msel\u001b[0m\u001b[1;33m.\u001b[0m\u001b[0mselect\u001b[0m\u001b[1;33m(\u001b[0m\u001b[0mself\u001b[0m\u001b[1;33m.\u001b[0m\u001b[0mshape\u001b[0m\u001b[1;33m,\u001b[0m \u001b[0margs\u001b[0m\u001b[1;33m,\u001b[0m \u001b[0mdsid\u001b[0m\u001b[1;33m=\u001b[0m\u001b[0mself\u001b[0m\u001b[1;33m.\u001b[0m\u001b[0mid\u001b[0m\u001b[1;33m)\u001b[0m\u001b[1;33m\u001b[0m\u001b[0m\n\u001b[0m\u001b[0;32m    463\u001b[0m \u001b[1;33m\u001b[0m\u001b[0m\n\u001b[0;32m    464\u001b[0m         \u001b[1;32mif\u001b[0m \u001b[0mselection\u001b[0m\u001b[1;33m.\u001b[0m\u001b[0mnselect\u001b[0m \u001b[1;33m==\u001b[0m \u001b[1;36m0\u001b[0m\u001b[1;33m:\u001b[0m\u001b[1;33m\u001b[0m\u001b[0m\n",
      "\u001b[1;32m/home/quickbeam/ilia_dev/python/miniconda/envs/blocks-py2/lib/python2.7/site-packages/h5py/_hl/selections.pyc\u001b[0m in \u001b[0;36mselect\u001b[1;34m(shape, args, dsid)\u001b[0m\n\u001b[0;32m     86\u001b[0m             \u001b[1;32mexcept\u001b[0m \u001b[0mException\u001b[0m\u001b[1;33m:\u001b[0m\u001b[1;33m\u001b[0m\u001b[0m\n\u001b[0;32m     87\u001b[0m                 \u001b[0msel\u001b[0m \u001b[1;33m=\u001b[0m \u001b[0mFancySelection\u001b[0m\u001b[1;33m(\u001b[0m\u001b[0mshape\u001b[0m\u001b[1;33m)\u001b[0m\u001b[1;33m\u001b[0m\u001b[0m\n\u001b[1;32m---> 88\u001b[1;33m                 \u001b[0msel\u001b[0m\u001b[1;33m[\u001b[0m\u001b[0margs\u001b[0m\u001b[1;33m]\u001b[0m\u001b[1;33m\u001b[0m\u001b[0m\n\u001b[0m\u001b[0;32m     89\u001b[0m                 \u001b[1;32mreturn\u001b[0m \u001b[0msel\u001b[0m\u001b[1;33m\u001b[0m\u001b[0m\n\u001b[0;32m     90\u001b[0m \u001b[1;33m\u001b[0m\u001b[0m\n",
      "\u001b[1;32m/home/quickbeam/ilia_dev/python/miniconda/envs/blocks-py2/lib/python2.7/site-packages/h5py/_hl/selections.pyc\u001b[0m in \u001b[0;36m__getitem__\u001b[1;34m(self, args)\u001b[0m\n\u001b[0;32m    380\u001b[0m         \u001b[0mself\u001b[0m\u001b[1;33m.\u001b[0m\u001b[0m_id\u001b[0m\u001b[1;33m.\u001b[0m\u001b[0mselect_none\u001b[0m\u001b[1;33m(\u001b[0m\u001b[1;33m)\u001b[0m\u001b[1;33m\u001b[0m\u001b[0m\n\u001b[0;32m    381\u001b[0m         \u001b[1;32mfor\u001b[0m \u001b[0midx\u001b[0m\u001b[1;33m,\u001b[0m \u001b[0mvector\u001b[0m \u001b[1;32min\u001b[0m \u001b[0menumerate\u001b[0m\u001b[1;33m(\u001b[0m\u001b[0margvector\u001b[0m\u001b[1;33m)\u001b[0m\u001b[1;33m:\u001b[0m\u001b[1;33m\u001b[0m\u001b[0m\n\u001b[1;32m--> 382\u001b[1;33m             \u001b[0mstart\u001b[0m\u001b[1;33m,\u001b[0m \u001b[0mcount\u001b[0m\u001b[1;33m,\u001b[0m \u001b[0mstep\u001b[0m\u001b[1;33m,\u001b[0m \u001b[0mscalar\u001b[0m \u001b[1;33m=\u001b[0m \u001b[0m_handle_simple\u001b[0m\u001b[1;33m(\u001b[0m\u001b[0mself\u001b[0m\u001b[1;33m.\u001b[0m\u001b[0mshape\u001b[0m\u001b[1;33m,\u001b[0m \u001b[0mvector\u001b[0m\u001b[1;33m)\u001b[0m\u001b[1;33m\u001b[0m\u001b[0m\n\u001b[0m\u001b[0;32m    383\u001b[0m             \u001b[0mself\u001b[0m\u001b[1;33m.\u001b[0m\u001b[0m_id\u001b[0m\u001b[1;33m.\u001b[0m\u001b[0mselect_hyperslab\u001b[0m\u001b[1;33m(\u001b[0m\u001b[0mstart\u001b[0m\u001b[1;33m,\u001b[0m \u001b[0mcount\u001b[0m\u001b[1;33m,\u001b[0m \u001b[0mstep\u001b[0m\u001b[1;33m,\u001b[0m \u001b[0mop\u001b[0m\u001b[1;33m=\u001b[0m\u001b[0mh5s\u001b[0m\u001b[1;33m.\u001b[0m\u001b[0mSELECT_OR\u001b[0m\u001b[1;33m)\u001b[0m\u001b[1;33m\u001b[0m\u001b[0m\n\u001b[0;32m    384\u001b[0m \u001b[1;33m\u001b[0m\u001b[0m\n",
      "\u001b[1;32m/home/quickbeam/ilia_dev/python/miniconda/envs/blocks-py2/lib/python2.7/site-packages/h5py/_hl/selections.pyc\u001b[0m in \u001b[0;36m_handle_simple\u001b[1;34m(shape, args)\u001b[0m\n\u001b[0;32m    448\u001b[0m                 \u001b[0ms\u001b[0m \u001b[1;33m=\u001b[0m \u001b[0mTrue\u001b[0m\u001b[1;33m\u001b[0m\u001b[0m\n\u001b[0;32m    449\u001b[0m             \u001b[1;32mexcept\u001b[0m \u001b[0mTypeError\u001b[0m\u001b[1;33m:\u001b[0m\u001b[1;33m\u001b[0m\u001b[0m\n\u001b[1;32m--> 450\u001b[1;33m                 \u001b[1;32mraise\u001b[0m \u001b[0mTypeError\u001b[0m\u001b[1;33m(\u001b[0m\u001b[1;34m'Illegal index \"%s\" (must be a slice or number)'\u001b[0m \u001b[1;33m%\u001b[0m \u001b[0marg\u001b[0m\u001b[1;33m)\u001b[0m\u001b[1;33m\u001b[0m\u001b[0m\n\u001b[0m\u001b[0;32m    451\u001b[0m         \u001b[0mstart\u001b[0m\u001b[1;33m.\u001b[0m\u001b[0mappend\u001b[0m\u001b[1;33m(\u001b[0m\u001b[0mx\u001b[0m\u001b[1;33m)\u001b[0m\u001b[1;33m\u001b[0m\u001b[0m\n\u001b[0;32m    452\u001b[0m         \u001b[0mcount\u001b[0m\u001b[1;33m.\u001b[0m\u001b[0mappend\u001b[0m\u001b[1;33m(\u001b[0m\u001b[0my\u001b[0m\u001b[1;33m)\u001b[0m\u001b[1;33m\u001b[0m\u001b[0m\n",
      "\u001b[1;31mTypeError\u001b[0m: not all arguments converted during string formatting"
     ]
    }
   ],
   "source": [
    "chars[zip(*indx_pairs[:2])]"
   ]
  },
  {
   "cell_type": "code",
   "execution_count": 12,
   "metadata": {
    "collapsed": false
   },
   "outputs": [],
   "source": [
    "relevant_states_batch = batch_dim_first(sc.read_sequence_batch(chars[seq_indices[100:300]]))"
   ]
  },
  {
   "cell_type": "code",
   "execution_count": 14,
   "metadata": {
    "collapsed": false
   },
   "outputs": [
    {
     "data": {
      "text/plain": [
       "array([[ 0.        ,  0.        ,  0.        , ...,  0.        ,\n",
       "         0.        ,  0.        ],\n",
       "       [-0.84005725, -0.91828352,  0.73823857, ...,  0.29006922,\n",
       "        -0.14012505,  0.38126493],\n",
       "       [-0.99907357,  0.80231488,  0.97311008, ...,  0.06220022,\n",
       "         0.56953937,  0.80606025],\n",
       "       [-1.        ,  1.        , -1.        , ..., -0.99999946,\n",
       "         0.99948239,  1.        ],\n",
       "       [-1.        ,  1.        , -1.        , ..., -1.        ,\n",
       "         1.        ,  1.        ]], dtype=float32)"
      ]
     },
     "execution_count": 14,
     "metadata": {},
     "output_type": "execute_result"
    }
   ],
   "source": [
    "relevant_states_batch[0][:5]"
   ]
  },
  {
   "cell_type": "code",
   "execution_count": 15,
   "metadata": {
    "collapsed": false
   },
   "outputs": [
    {
     "data": {
      "text/plain": [
       "array([[-1.,  1., -1., ..., -1.,  1.,  1.],\n",
       "       [ 1., -1.,  1., ...,  1., -1., -1.]], dtype=float32)"
      ]
     },
     "execution_count": 15,
     "metadata": {},
     "output_type": "execute_result"
    }
   ],
   "source": [
    "relevant_states_batch[zip(*new_indx_pairs[:2])]"
   ]
  },
  {
   "cell_type": "code",
   "execution_count": 48,
   "metadata": {
    "collapsed": true
   },
   "outputs": [],
   "source": [
    "pca = PCA()"
   ]
  },
  {
   "cell_type": "code",
   "execution_count": 46,
   "metadata": {
    "collapsed": false
   },
   "outputs": [],
   "source": [
    "transformed = pca.fit_transform(chain_seq_states(relevant_states_batch[aux_var_name]))"
   ]
  },
  {
   "cell_type": "code",
   "execution_count": 49,
   "metadata": {
    "collapsed": false
   },
   "outputs": [
    {
     "data": {
      "text/plain": [
       "PCA(copy=True, n_components=None, whiten=False)"
      ]
     },
     "execution_count": 49,
     "metadata": {},
     "output_type": "execute_result"
    }
   ],
   "source": [
    "pca.fit(chain_seq_states(relevant_states_batch[aux_var_name]))"
   ]
  },
  {
   "cell_type": "code",
   "execution_count": 52,
   "metadata": {
    "collapsed": false
   },
   "outputs": [
    {
     "data": {
      "text/plain": [
       "[<matplotlib.lines.Line2D at 0xaaf3470c>]"
      ]
     },
     "execution_count": 52,
     "metadata": {},
     "output_type": "execute_result"
    },
    {
     "data": {
      "image/png": "[encoded data removed]",
      "text/plain": [
       "<matplotlib.figure.Figure at 0xaaffd2ec>"
      ]
     },
     "metadata": {},
     "output_type": "display_data"
    }
   ],
   "source": [
    "plt.plot(pca.explained_variance_ratio_[:10])"
   ]
  },
  {
   "cell_type": "code",
   "execution_count": 51,
   "metadata": {
    "collapsed": false
   },
   "outputs": [],
   "source": [
    "transformed = pca.fit_transform(data)"
   ]
  },
  {
   "cell_type": "code",
   "execution_count": 21,
   "metadata": {
    "collapsed": false
   },
   "outputs": [
    {
     "data": {
      "text/plain": [
       "5040"
      ]
     },
     "execution_count": 21,
     "metadata": {},
     "output_type": "execute_result"
    }
   ],
   "source": [
    "252 * 20"
   ]
  },
  {
   "cell_type": "code",
   "execution_count": 22,
   "metadata": {
    "collapsed": true
   },
   "outputs": [],
   "source": [
    "data = np.random.random((5040, 1024))"
   ]
  },
  {
   "cell_type": "code",
   "execution_count": 64,
   "metadata": {
    "collapsed": false
   },
   "outputs": [
    {
     "data": {
      "text/plain": [
       "(1, 1024)"
      ]
     },
     "execution_count": 64,
     "metadata": {},
     "output_type": "execute_result"
    }
   ],
   "source": [
    "pca.components_.shape"
   ]
  },
  {
   "cell_type": "code",
   "execution_count": 56,
   "metadata": {
    "collapsed": false
   },
   "outputs": [
    {
     "data": {
      "text/plain": [
       "(5040, 1)"
      ]
     },
     "execution_count": 56,
     "metadata": {},
     "output_type": "execute_result"
    }
   ],
   "source": [
    "components.shape"
   ]
  },
  {
   "cell_type": "code",
   "execution_count": 53,
   "metadata": {
    "collapsed": false
   },
   "outputs": [
    {
     "data": {
      "text/plain": [
       "<matplotlib.lines.Line2D at 0xa638f42c>"
      ]
     },
     "execution_count": 53,
     "metadata": {},
     "output_type": "execute_result"
    },
    {
     "data": {
      "image/png": "[encoded data removed]",
      "text/plain": [
       "<matplotlib.figure.Figure at 0xa638f40c>"
      ]
     },
     "metadata": {},
     "output_type": "display_data"
    }
   ],
   "source": [
    "plt.plot(components[70:100])\n",
    "plt.axvline(x=t[2][0] - 70, linewidth=4, color='r')"
   ]
  },
  {
   "cell_type": "code",
   "execution_count": 46,
   "metadata": {
    "collapsed": false
   },
   "outputs": [
    {
     "data": {
      "text/plain": [
       "[133]"
      ]
     },
     "execution_count": 46,
     "metadata": {},
     "output_type": "execute_result"
    }
   ],
   "source": [
    "t[4]"
   ]
  },
  {
   "cell_type": "code",
   "execution_count": 17,
   "metadata": {
    "collapsed": true
   },
   "outputs": [],
   "source": [
    "chained = chain_seq_states(relevant_states_batch[aux_var_name])"
   ]
  },
  {
   "cell_type": "code",
   "execution_count": 18,
   "metadata": {
    "collapsed": false
   },
   "outputs": [
    {
     "data": {
      "text/plain": [
       "(1260, 1024)"
      ]
     },
     "execution_count": 18,
     "metadata": {},
     "output_type": "execute_result"
    }
   ],
   "source": [
    "chained.shape"
   ]
  },
  {
   "cell_type": "markdown",
   "metadata": {},
   "source": [
    "### Single Character detection"
   ]
  },
  {
   "cell_type": "markdown",
   "metadata": {},
   "source": [
    "load sc, map\n",
    "\n",
    "select character\n",
    "\n",
    "generate sequences: character and other characters\n",
    "in case of bigram exp: character + contexts, other chars + context\n",
    "wrap these in periods\n",
    "feed them through sc\n",
    "select cell/position and average OR we could average for each cell/position"
   ]
  },
  {
   "cell_type": "code",
   "execution_count": 15,
   "metadata": {
    "collapsed": false
   },
   "outputs": [],
   "source": [
    "from erputils import ItemIdHelper, item_vs_noise, context_item_vs_noise"
   ]
  },
  {
   "cell_type": "code",
   "execution_count": 4,
   "metadata": {
    "collapsed": true
   },
   "outputs": [],
   "source": [
    "tk = ItemIdHelper(map_chr_2_ind)"
   ]
  },
  {
   "cell_type": "code",
   "execution_count": 5,
   "metadata": {
    "collapsed": true
   },
   "outputs": [],
   "source": [
    "aux_var_name = \"sequencegenerator_cost_matrix_cells#2\""
   ]
  },
  {
   "cell_type": "code",
   "execution_count": 11,
   "metadata": {
    "collapsed": false
   },
   "outputs": [],
   "source": [
    "item_states, other_states = item_vs_noise('A', tk, sc)"
   ]
  },
  {
   "cell_type": "code",
   "execution_count": 12,
   "metadata": {
    "collapsed": false
   },
   "outputs": [
    {
     "data": {
      "text/plain": [
       "['sequencegenerator_cost_matrix_cells#1',\n",
       " 'sequencegenerator_cost_matrix_cells#2',\n",
       " 'sequencegenerator_cost_matrix_states#1',\n",
       " 'sequencegenerator_cost_matrix_states#2',\n",
       " 'sequencegenerator_cost_matrix_cells',\n",
       " 'sequencegenerator_cost_matrix_states']"
      ]
     },
     "execution_count": 12,
     "metadata": {},
     "output_type": "execute_result"
    }
   ],
   "source": [
    "item_states.keys()"
   ]
  },
  {
   "cell_type": "code",
   "execution_count": 10,
   "metadata": {
    "collapsed": false
   },
   "outputs": [
    {
     "data": {
      "text/plain": [
       "(512,)"
      ]
     },
     "execution_count": 10,
     "metadata": {},
     "output_type": "execute_result"
    }
   ],
   "source": [
    "other_states['sequencegenerator_cost_matrix_cells#1'].mean(axis=0).shape"
   ]
  },
  {
   "cell_type": "code",
   "execution_count": 42,
   "metadata": {
    "collapsed": false
   },
   "outputs": [],
   "source": [
    "context_it_states, context_other_states = context_item_vs_noise('A', tk, sc)"
   ]
  },
  {
   "cell_type": "code",
   "execution_count": 43,
   "metadata": {
    "collapsed": true
   },
   "outputs": [
    {
     "data": {
      "text/plain": [
       "{'sequencegenerator_cost_matrix_cells': array([[ 0.03464606,  0.91628689,  0.50353211, ..., -0.47803751,\n",
       "         -0.98307621, -0.15884028],\n",
       "        [-1.07778621,  0.90315723,  0.55432594, ..., -0.62551844,\n",
       "         -0.6449002 ,  0.45704916],\n",
       "        [-1.74003315,  0.16603877,  0.0953985 , ..., -0.01395062,\n",
       "         -0.1360615 ,  1.25826013],\n",
       "        ..., \n",
       "        [ 0.06487142,  0.90870166,  0.10279412, ..., -0.0671764 ,\n",
       "         -0.81281036, -0.17809001],\n",
       "        [ 0.05325152,  1.00607312,  0.93537378, ..., -0.29988942,\n",
       "         -1.12448192, -0.05740561],\n",
       "        [-0.38449222,  0.35730359,  0.30025905, ...,  0.24882995,\n",
       "         -0.26510844,  0.00533883]], dtype=float32),\n",
       " 'sequencegenerator_cost_matrix_cells#1': array([[-1.61728406, -0.88043696,  1.87153637, ..., -0.58676714,\n",
       "          0.01444731,  0.63314819],\n",
       "        [-0.24869415, -0.5455901 ,  1.40073586, ..., -0.98614609,\n",
       "         -0.01853268, -0.01298802],\n",
       "        [ 0.69552273,  0.6549446 ,  1.53332722, ...,  0.55622685,\n",
       "          0.00471308, -1.16986525],\n",
       "        ..., \n",
       "        [-1.03826833, -0.9178952 ,  1.10140121, ..., -0.39757058,\n",
       "          0.01624467,  1.18681276],\n",
       "        [-1.42102313, -1.05230927,  1.94874632, ..., -0.43222797,\n",
       "          0.01316103,  0.72490352],\n",
       "        [ 0.06671062, -0.33430871,  0.7455107 , ...,  0.42374349,\n",
       "          0.00559342, -0.12540269]], dtype=float32),\n",
       " 'sequencegenerator_cost_matrix_cells#2': array([[ -2.83544451e-01,   1.30810273e+00,   1.47238461e-04, ...,\n",
       "           1.01527989e+00,  -2.88501620e-01,   5.46593405e-02],\n",
       "        [ -1.85512066e-01,   1.09346247e+00,  -1.09166234e-04, ...,\n",
       "           8.67778003e-01,  -7.53403544e-01,   3.87931913e-01],\n",
       "        [ -5.72989173e-02,   9.89520431e-01,  -1.26439709e-05, ...,\n",
       "           1.45007253e+00,  -1.62460124e+00,   2.53491968e-01],\n",
       "        ..., \n",
       "        [ -1.65002421e-01,   1.91454124e+00,   3.73267471e-06, ...,\n",
       "           8.89599860e-01,  -8.57312500e-01,   4.13008302e-01],\n",
       "        [ -3.64888132e-01,   1.64242625e+00,   2.02970932e-05, ...,\n",
       "           9.31792498e-01,  -1.21727788e+00,   9.65793729e-02],\n",
       "        [  8.68491977e-02,  -4.78549581e-03,  -2.92839718e+00, ...,\n",
       "          -9.91360307e-01,  -2.67905444e-01,   4.45944488e-01]], dtype=float32),\n",
       " 'sequencegenerator_cost_matrix_states': array([[  1.26013730e-03,   7.15268791e-01,   1.35460729e-02, ...,\n",
       "          -1.72699019e-01,  -7.50393987e-01,  -3.12974826e-02],\n",
       "        [ -7.87201881e-01,   5.47095299e-01,   2.58598685e-01, ...,\n",
       "          -3.09543133e-01,  -5.01406491e-01,   3.94361496e-01],\n",
       "        [ -9.39652383e-01,   6.94541708e-02,   4.46463972e-02, ...,\n",
       "          -1.28450552e-02,  -1.21912688e-01,   8.07992935e-01],\n",
       "        ..., \n",
       "        [  2.65058805e-03,   5.87746859e-01,   4.24738927e-03, ...,\n",
       "          -4.36584391e-02,  -5.35407603e-01,  -1.50198545e-02],\n",
       "        [  1.64053077e-03,   7.58815348e-01,   2.44194359e-01, ...,\n",
       "          -7.92030841e-02,  -8.08692634e-01,  -3.12297996e-02],\n",
       "        [ -2.15872720e-01,   1.99465573e-01,   6.70328885e-02, ...,\n",
       "           8.57974291e-02,  -7.27760196e-02,   8.47942254e-04]], dtype=float32),\n",
       " 'sequencegenerator_cost_matrix_states#1': array([[ -4.13624555e-01,  -5.91929955e-03,   1.69220176e-02, ...,\n",
       "          -2.03231480e-02,   2.01428935e-04,   5.31438410e-01],\n",
       "        [ -2.68394360e-03,  -1.33371934e-01,   5.66723883e-01, ...,\n",
       "          -8.42686277e-03,  -3.53475843e-05,  -1.25573333e-02],\n",
       "        [  4.22147661e-03,   2.82837301e-02,   3.53029400e-01, ...,\n",
       "           4.69593843e-03,   1.76025978e-07,  -8.22175324e-01],\n",
       "        ..., \n",
       "        [ -1.99616522e-01,  -6.56289831e-02,   2.99769978e-04, ...,\n",
       "          -2.48263939e-03,   7.15024536e-04,   8.07128668e-01],\n",
       "        [ -2.43874788e-01,  -1.50022693e-02,   1.78216279e-01, ...,\n",
       "          -3.98373837e-03,   2.30450431e-04,   5.98842084e-01],\n",
       "        [  1.37965623e-02,  -1.01080783e-01,   5.32919541e-03, ...,\n",
       "           2.75322981e-02,   1.54871726e-04,  -1.22619487e-01]], dtype=float32),\n",
       " 'sequencegenerator_cost_matrix_states#2': array([[ -3.97730758e-03,   2.14930347e-04,   1.58901003e-06, ...,\n",
       "           7.39571571e-01,  -1.96911216e-01,   2.64379894e-04],\n",
       "        [ -1.58980973e-02,   1.46220482e-05,  -1.65293216e-07, ...,\n",
       "           6.90196276e-01,  -6.31100774e-01,   1.00702029e-02],\n",
       "        [ -7.50638312e-03,   9.53576455e-06,  -2.51088750e-08, ...,\n",
       "           8.93679380e-01,  -9.11073744e-01,   2.41683709e-04],\n",
       "        ..., \n",
       "        [ -2.37435830e-04,   2.43552742e-04,   8.30298663e-10, ...,\n",
       "           7.05291331e-01,  -6.87581718e-01,   2.55448776e-05],\n",
       "        [ -7.25199003e-04,   3.03824549e-04,   1.73747150e-08, ...,\n",
       "           6.97860241e-01,  -8.25893402e-01,   1.58847147e-03],\n",
       "        [  7.11453483e-02,  -1.94792356e-05,  -9.92515445e-01, ...,\n",
       "          -7.38254189e-01,  -1.69791281e-03,   1.00812735e-03]], dtype=float32)}"
      ]
     },
     "execution_count": 43,
     "metadata": {},
     "output_type": "execute_result"
    }
   ],
   "source": [
    "context_it_states"
   ]
  },
  {
   "cell_type": "code",
   "execution_count": 20,
   "metadata": {
    "collapsed": true
   },
   "outputs": [
    {
     "data": {
      "text/plain": [
       "[array([ 8,  9, 31]),\n",
       " array([24,  9, 31]),\n",
       " array([23,  9, 31]),\n",
       " array([72,  9, 31]),\n",
       " array([ 5,  9, 31]),\n",
       " array([63,  9, 31]),\n",
       " array([71,  9, 31]),\n",
       " array([70,  9, 31]),\n",
       " array([76,  9, 31]),\n",
       " array([74,  9, 31]),\n",
       " array([37,  9, 31]),\n",
       " array([31,  9, 31]),\n",
       " array([25,  9, 31]),\n",
       " array([53,  9, 31]),\n",
       " array([41,  9, 31]),\n",
       " array([32,  9, 31]),\n",
       " array([44,  9, 31]),\n",
       " array([43,  9, 31]),\n",
       " array([49,  9, 31]),\n",
       " array([48,  9, 31]),\n",
       " array([52,  9, 31]),\n",
       " array([50,  9, 31]),\n",
       " array([38,  9, 31]),\n",
       " array([16,  9, 31]),\n",
       " array([61,  9, 31]),\n",
       " array([33,  9, 31]),\n",
       " array([17,  9, 31]),\n",
       " array([11,  9, 31]),\n",
       " array([54,  9, 31]),\n",
       " array([45,  9, 31]),\n",
       " array([21,  9, 31]),\n",
       " array([ 6,  9, 31]),\n",
       " array([26,  9, 31]),\n",
       " array([51,  9, 31]),\n",
       " array([69,  9, 31]),\n",
       " array([66,  9, 31]),\n",
       " array([15,  9, 31]),\n",
       " array([42,  9, 31]),\n",
       " array([56,  9, 31]),\n",
       " array([47,  9, 31]),\n",
       " array([75,  9, 31]),\n",
       " array([58,  9, 31]),\n",
       " array([40,  9, 31]),\n",
       " array([57,  9, 31]),\n",
       " array([62,  9, 31]),\n",
       " array([ 2,  9, 31]),\n",
       " array([59,  9, 31]),\n",
       " array([73,  9, 31]),\n",
       " array([60,  9, 31]),\n",
       " array([65,  9, 31]),\n",
       " array([18,  9, 31]),\n",
       " array([29,  9, 31]),\n",
       " array([27,  9, 31]),\n",
       " array([ 4,  9, 31]),\n",
       " array([20,  9, 31]),\n",
       " array([28,  9, 31]),\n",
       " array([14,  9, 31]),\n",
       " array([ 7,  9, 31]),\n",
       " array([ 3,  9, 31]),\n",
       " array([13,  9, 31]),\n",
       " array([64,  9, 31]),\n",
       " array([36,  9, 31]),\n",
       " array([19,  9, 31]),\n",
       " array([12,  9, 31]),\n",
       " array([22,  9, 31]),\n",
       " array([67,  9, 31]),\n",
       " array([39,  9, 31]),\n",
       " array([ 9,  9, 31]),\n",
       " array([ 0,  9, 31]),\n",
       " array([35,  9, 31]),\n",
       " array([10,  9, 31]),\n",
       " array([34,  9, 31]),\n",
       " array([30,  9, 31]),\n",
       " array([46,  9, 31]),\n",
       " array([55,  9, 31]),\n",
       " array([68,  9, 31]),\n",
       " array([ 1,  9, 31])]"
      ]
     },
     "execution_count": 20,
     "metadata": {},
     "output_type": "execute_result"
    }
   ],
   "source": [
    "map(tk.add_period, tk.add_context([9]))"
   ]
  },
  {
   "cell_type": "markdown",
   "metadata": {},
   "source": [
    "### All of Bible data"
   ]
  },
  {
   "cell_type": "code",
   "execution_count": 44,
   "metadata": {
    "collapsed": true
   },
   "outputs": [],
   "source": [
    "import h5py()"
   ]
  },
  {
   "cell_type": "code",
   "execution_count": 45,
   "metadata": {
    "collapsed": true
   },
   "outputs": [],
   "source": [
    "bible = h5py.File('data/bible.hdf5')"
   ]
  },
  {
   "cell_type": "code",
   "execution_count": 53,
   "metadata": {
    "collapsed": true
   },
   "outputs": [],
   "source": [
    "from util import pad_mask"
   ]
  },
  {
   "cell_type": "code",
   "execution_count": 57,
   "metadata": {
    "collapsed": false
   },
   "outputs": [],
   "source": [
    "pad_bible = pad_mask(bible['character_seqs'][:50])"
   ]
  },
  {
   "cell_type": "code",
   "execution_count": 58,
   "metadata": {
    "collapsed": false
   },
   "outputs": [],
   "source": [
    "test_state = sc.read_sequence_batch(*pad_bible)"
   ]
  },
  {
   "cell_type": "code",
   "execution_count": 60,
   "metadata": {
    "collapsed": false
   },
   "outputs": [
    {
     "data": {
      "text/plain": [
       "(264, 50, 512)"
      ]
     },
     "execution_count": 60,
     "metadata": {},
     "output_type": "execute_result"
    }
   ],
   "source": [
    "test_state['sequencegenerator_cost_matrix_cells#1'].shape"
   ]
  },
  {
   "cell_type": "markdown",
   "metadata": {},
   "source": [
    "## Basic facts about cost-matrix output"
   ]
  },
  {
   "cell_type": "markdown",
   "metadata": {},
   "source": [
    "### First states == initial states"
   ]
  },
  {
   "cell_type": "code",
   "execution_count": 4,
   "metadata": {
    "collapsed": true
   },
   "outputs": [
    {
     "name": "stdout",
     "output_type": "stream",
     "text": [
      "Is the <sequencegenerator_cost_matrix_cells> variable equal to its initial value after any random char?\n",
      "True\n",
      "Is the <sequencegenerator_cost_matrix_cells#1> variable equal to its initial value after any random char?\n",
      "True\n",
      "Is the <sequencegenerator_cost_matrix_cells#2> variable equal to its initial value after any random char?\n",
      "True\n",
      "Is the <sequencegenerator_cost_matrix_states> variable equal to its initial value after any random char?\n",
      "True\n",
      "Is the <sequencegenerator_cost_matrix_states#1> variable equal to its initial value after any random char?\n",
      "True\n",
      "Is the <sequencegenerator_cost_matrix_states#2> variable equal to its initial value after any random char?\n",
      "True\n"
     ]
    }
   ],
   "source": [
    "# Something nice to print at each iteration\n",
    "msg = \"Is the <{}> variable equal to its initial value after any random char?\\n{}\"\n",
    "model_initial_vals = lstm_net.cost_model.get_parameter_values()\n",
    "name_converter = {\n",
    "    'sequencegenerator_cost_matrix_cells':\n",
    "    '/sequencegenerator/with_fake_attention/transition/layer#0.initial_cells',\n",
    "    'sequencegenerator_cost_matrix_cells#1':\n",
    "    '/sequencegenerator/with_fake_attention/transition/layer#1.initial_cells',\n",
    "    'sequencegenerator_cost_matrix_cells#2':\n",
    "    '/sequencegenerator/with_fake_attention/transition/layer#2.initial_cells',\n",
    "    'sequencegenerator_cost_matrix_states':\n",
    "    '/sequencegenerator/with_fake_attention/transition/layer#0.initial_state',\n",
    "    'sequencegenerator_cost_matrix_states#1':\n",
    "    '/sequencegenerator/with_fake_attention/transition/layer#1.initial_state',\n",
    "    'sequencegenerator_cost_matrix_states#2':\n",
    "    '/sequencegenerator/with_fake_attention/transition/layer#2.initial_state' \n",
    "}\n",
    "# read every char in vocab\n",
    "reading_singleton_seqs = [sc.read_single_sequence([char_id]) for char_id in map_chr_2_ind.values()]\n",
    "for state_name in sc.state_var_names:\n",
    "    # getting initial value of variable\n",
    "    initial_val = model_initial_vals[name_converter[state_name]]\n",
    "    read_vals = [val[state_name] for val in reading_singleton_seqs]\n",
    "    print(msg.format(state_name, all(np.all(v == initial_val) for v in read_vals)))"
   ]
  },
  {
   "cell_type": "markdown",
   "metadata": {},
   "source": [
    "### States One Step Behind\n",
    "At position *t* states/cells reflect input at *t-1*"
   ]
  },
  {
   "cell_type": "code",
   "execution_count": 5,
   "metadata": {
    "collapsed": true
   },
   "outputs": [
    {
     "name": "stdout",
     "output_type": "stream",
     "text": [
      "Are values for <sequencegenerator_cost_matrix_cells> at pos 0 equal amongst themselves?\n",
      "True\n",
      "Are values for <sequencegenerator_cost_matrix_cells> at pos 1 equal amongst themselves?\n",
      "False\n",
      "Are values for <sequencegenerator_cost_matrix_cells#1> at pos 0 equal amongst themselves?\n",
      "True\n",
      "Are values for <sequencegenerator_cost_matrix_cells#1> at pos 1 equal amongst themselves?\n",
      "False\n",
      "Are values for <sequencegenerator_cost_matrix_cells#2> at pos 0 equal amongst themselves?\n",
      "True\n",
      "Are values for <sequencegenerator_cost_matrix_cells#2> at pos 1 equal amongst themselves?\n",
      "False\n",
      "Are values for <sequencegenerator_cost_matrix_states> at pos 0 equal amongst themselves?\n",
      "True\n",
      "Are values for <sequencegenerator_cost_matrix_states> at pos 1 equal amongst themselves?\n",
      "False\n",
      "Are values for <sequencegenerator_cost_matrix_states#1> at pos 0 equal amongst themselves?\n",
      "True\n",
      "Are values for <sequencegenerator_cost_matrix_states#1> at pos 1 equal amongst themselves?\n",
      "False\n",
      "Are values for <sequencegenerator_cost_matrix_states#2> at pos 0 equal amongst themselves?\n",
      "True\n",
      "Are values for <sequencegenerator_cost_matrix_states#2> at pos 1 equal amongst themselves?\n",
      "False\n"
     ]
    }
   ],
   "source": [
    "period_id = map_chr_2_ind['.']\n",
    "# we vary only the first char in the sequence, the second one stays the same.\n",
    "bigram_seqs = [(char_id, period_id) for char_id in map_chr_2_ind.values()]\n",
    "reading_bigrams = [sc.read_single_sequence(bs) for bs in bigram_seqs]\n",
    "for state_name in sc.state_var_names:\n",
    "    for pos in (0, 1):\n",
    "        read_vals = [val[state_name][pos] for val in reading_bigrams]\n",
    "        print('Are values for <{}> at pos {} equal amongst themselves?'.format(state_name, pos))\n",
    "        print(np.array_equal(read_vals[1:], read_vals[:-1]))"
   ]
  },
  {
   "cell_type": "markdown",
   "metadata": {},
   "source": [
    "### Hinton Diagrams"
   ]
  },
  {
   "cell_type": "code",
   "execution_count": 7,
   "metadata": {
    "collapsed": true
   },
   "outputs": [],
   "source": [
    "from stoogeplot import hinton_diagram"
   ]
  },
  {
   "cell_type": "code",
   "execution_count": 13,
   "metadata": {
    "collapsed": true
   },
   "outputs": [
    {
     "data": {
      "image/png": "[encoded data removed]",
      "text/plain": [
       "<matplotlib.figure.Figure at 0x9da938ac>"
      ]
     },
     "metadata": {},
     "output_type": "display_data"
    }
   ],
   "source": [
    "f = plt.figure(figsize=(30, 30))\n",
    "ax = hinton_diagram(demo_cell[:,:10], xticks=demo_sent)\n",
    "f.subplots_adjust(bottom=0.2)"
   ]
  },
  {
   "cell_type": "code",
   "execution_count": 6,
   "metadata": {
    "collapsed": true
   },
   "outputs": [],
   "source": [
    "# samples in range [-1, 1)\n",
    "randy = 2 * np.random.random(size=(20, 20),) -1"
   ]
  },
  {
   "cell_type": "code",
   "execution_count": 29,
   "metadata": {
    "collapsed": false
   },
   "outputs": [
    {
     "data": {
      "text/plain": [
       "<matplotlib.axes._subplots.AxesSubplot at 0xa104bc2c>"
      ]
     },
     "execution_count": 29,
     "metadata": {},
     "output_type": "execute_result"
    },
    {
     "data": {
      "image/png": "[encoded data removed]",
      "text/plain": [
       "<matplotlib.figure.Figure at 0xa104b58c>"
      ]
     },
     "metadata": {},
     "output_type": "display_data"
    }
   ],
   "source": [
    "hinton_diagram(randy)"
   ]
  },
  {
   "cell_type": "markdown",
   "metadata": {},
   "source": [
    "## WIP: Faster Hinton plot drawing!"
   ]
  },
  {
   "cell_type": "code",
   "execution_count": 13,
   "metadata": {
    "collapsed": true
   },
   "outputs": [
    {
     "data": {
      "image/png": "[encoded data removed]",
      "text/plain": [
       "<matplotlib.figure.Figure at 0xa1b1f5ac>"
      ]
     },
     "metadata": {},
     "output_type": "display_data"
    }
   ],
   "source": [
    "max_weight = 2 ** np.ceil(np.log(np.abs(randy).max()) / np.log(2))\n",
    "\n",
    "vertices = []\n",
    "sizes = []\n",
    "for (x, y), val in np.ndenumerate(randy):\n",
    "    s = np.sqrt(np.abs(val) / max_weight)\n",
    "    h = s / 2\n",
    "    bottom_left = [x - h, y - h]\n",
    "    top_left = [x - h, y + h]\n",
    "    top_right = [x + h, y + h]\n",
    "    bottom_right = [x + h, y - h]\n",
    "    vertices.append(np.array([\n",
    "                bottom_left,\n",
    "                top_left,\n",
    "                top_right,\n",
    "                bottom_right\n",
    "            ]))\n",
    "    sizes.append(s)\n",
    "\n",
    "from matplotlib.collections import PolyCollection\n",
    "\n",
    "pc = PolyCollection(vertices, sizes)\n",
    "\n",
    "# This currently plots one big rectangle\n",
    "f = plt.gcf()\n",
    "ax = f.add_subplot(1,1,1)\n",
    "ax.patch.set_facecolor('gray')\n",
    "ax.set_aspect('equal', 'box')\n",
    "# Not interested in yaxis ticks\n",
    "ax.yaxis.set_major_locator(plt.NullLocator())\n",
    "ax.xaxis.set_major_locator(plt.NullLocator())\n",
    "ax.add_collection(pc)\n",
    "ax.autoscale_view()"
   ]
  },
  {
   "cell_type": "markdown",
   "metadata": {},
   "source": [
    "## Old Demo"
   ]
  },
  {
   "cell_type": "code",
   "execution_count": 6,
   "metadata": {
    "collapsed": true
   },
   "outputs": [],
   "source": [
    "aux_var_name = \"sequencegenerator_cost_matrix_cells#2\""
   ]
  },
  {
   "cell_type": "code",
   "execution_count": 13,
   "metadata": {
    "collapsed": false
   },
   "outputs": [],
   "source": [
    "# demo_sent = \"13:2 And Abram was very rich in cattle, in silver, and in gold.\"\n",
    "# demo_sent = \"16:11 Seek the LORD and his strength, seek his face continually.\"\n",
    "# demo_sent = \"cats eat mice.\"\n",
    "# second_demo_sent = \"cats eat flies\"\n",
    "# the problem about this sentence is that I cannot see the difference between end of seq and closing bracket\n",
    "demo_seqs = ['static void pfn_inject_exit(void)\\n{\\n        debugfs_remove_recursive(hwpoison_dir);\\n}',\n",
    "            'static int follow_pfn_pte(struct vm_area_struct *vma, unsigned long address,\\n                pte_t *pte, unsigned int flags)\\n{\\n        /* No page to get reference */\\n        if (flags & FOLL_GET)\\n                return -EFAULT;\\n\\n        if (flags & FOLL_TOUCH) {\\n                pte_t entry = *pte;\\n\\n                if (flags & FOLL_WRITE)\\n                        entry = pte_mkdirty(entry);\\n                entry = pte_mkyoung(entry);\\n\\n                if (!pte_same(*pte, entry)) {\\n                        set_pte_at(vma->vm_mm, address, pte, entry);\\n                        update_mmu_cache(vma, address, pte);\\n                }\\n        }\\n\\n        /* Proper page table entry exists, but no corresponding struct page */\\n        return -EEXIST;\\n}\\n', \n",
    "            'if (flags & FOLL_GET) {\\n                get_page(page);\\n\\n                /* drop the pgmap reference now that we hold the page */\\n                if (pgmap) {\\n                        put_dev_pagemap(pgmap);\\n                        pgmap = NULL;\\n                }\\n        }',\n",
    "            'if (flags & FOLL_SPLIT) {\\n                int ret;\\n                page = pmd_page(*pmd);\\n                if (is_huge_zero_page(page)) {\\n                        spin_unlock(ptl);\\n                        ret = 0;\\n                        split_huge_pmd(vma, pmd, address);\\n                } else {\\n                        get_page(page);\\n                        spin_unlock(ptl);\\n                        lock_page(page);\\n                        ret = split_huge_page(page);\\n                        unlock_page(page);\\n                        put_page(page);\\n                }\\n\\n                return ret ? ERR_PTR(ret) :\\n                        follow_page_pte(vma, address, pmd, flags);\\n        }',\n",
    "            'e'*600]\n",
    "demo_seq = demo_seqs[3]"
   ]
  },
  {
   "cell_type": "code",
   "execution_count": 27,
   "metadata": {
    "collapsed": false
   },
   "outputs": [],
   "source": [
    "# demo_computed_vars = sc.read_single_sequence(demo_seq.replace(' ', 'a'))  # <- there are cells around, that react differently depending on the replacement char\n",
    "demo_computed_vars = sc.read_single_sequence(demo_seq)"
   ]
  },
  {
   "cell_type": "code",
   "execution_count": 28,
   "metadata": {
    "collapsed": true
   },
   "outputs": [],
   "source": [
    "demo_cell = demo_computed_vars[aux_var_name]"
   ]
  },
  {
   "cell_type": "code",
   "execution_count": 29,
   "metadata": {
    "collapsed": false
   },
   "outputs": [
    {
     "data": {
      "text/plain": [
       "<matplotlib.colorbar.Colorbar at 0x7fa04a729cf8>"
      ]
     },
     "execution_count": 29,
     "metadata": {},
     "output_type": "execute_result"
    },
    {
     "data": {
      "image/png": "[encoded data removed]",
      "text/plain": [
       "<matplotlib.figure.Figure at 0x7fa046313470>"
      ]
     },
     "metadata": {},
     "output_type": "display_data"
    }
   ],
   "source": [
    "from scipy.misc import imshow as show_image\n",
    "\n",
    "plt.figure(figsize=(10, 10))\n",
    "plt.imshow(demo_cell[200:400,100:180].T)\n",
    "plt.colorbar()"
   ]
  },
  {
   "cell_type": "markdown",
   "metadata": {},
   "source": [
    "### Plotting Stuff...\n",
    "\n",
    "This for now is just a demo of how easy it is to get at the various components of an NN and plot them"
   ]
  },
  {
   "cell_type": "code",
   "execution_count": 4,
   "metadata": {
    "collapsed": false
   },
   "outputs": [],
   "source": [
    "cats_mice = sc.read_single_sequence(\"cats eat mice\")"
   ]
  },
  {
   "cell_type": "code",
   "execution_count": 23,
   "metadata": {
    "collapsed": true
   },
   "outputs": [
    {
     "data": {
      "image/png": "[encoded data removed]",
      "text/plain": [
       "<matplotlib.figure.Figure at 0x7efc03243650>"
      ]
     },
     "metadata": {},
     "output_type": "display_data"
    }
   ],
   "source": [
    "# f = plt.figure(figsize=(20, 20))\n",
    "# plt.pcolormesh(np.expand_dims(third_cell[0][0], axis=0))\n",
    "plt.pcolormesh(abram_cell2_simple[:,18:20].T)\n",
    "# sets char IDs as tick labels on the X axis\n",
    "# plt.xticks(input_positions, list(\"cats eat mice\"))\n",
    "# plt.yticks([])\n",
    "# plt.ylim(0, 0.1)\n",
    "plt.colorbar()\n",
    "plt.show()"
   ]
  },
  {
   "cell_type": "code",
   "execution_count": 3,
   "metadata": {
    "collapsed": true
   },
   "outputs": [
    {
     "data": {
      "image/png": "[encoded data removed]",
      "text/plain": [
       "<matplotlib.figure.Figure at 0xb3c9d5cc>"
      ]
     },
     "metadata": {},
     "output_type": "display_data"
    }
   ],
   "source": [
    "plt.pcolormesh(np.random.rand(1, 6))\n",
    "plt.show()"
   ]
  },
  {
   "cell_type": "markdown",
   "metadata": {},
   "source": [
    "## ICA\n",
    "\n",
    "For now not used."
   ]
  },
  {
   "cell_type": "code",
   "execution_count": 19,
   "metadata": {
    "collapsed": true
   },
   "outputs": [],
   "source": [
    "from sklearn.decomposition import FastICA\n",
    "\n",
    "ica = FastICA()\n",
    "\n",
    "# Crashes kernel atm\n",
    "src = ica.fit_transform(demo_cell)"
   ]
  },
  {
   "cell_type": "markdown",
   "metadata": {},
   "source": [
    "## Developing Conll Marking func\n",
    "\n",
    "Cleaned up here mostly, but leaving some basics in case debugging needst to happen."
   ]
  },
  {
   "cell_type": "code",
   "execution_count": 3,
   "metadata": {
    "collapsed": false
   },
   "outputs": [],
   "source": [
    "from dataproc import load_tab_delim_hdt\n",
    "\n",
    "from util import dependencies, simple_mark_dependency"
   ]
  },
  {
   "cell_type": "code",
   "execution_count": 3,
   "metadata": {
    "collapsed": true
   },
   "outputs": [],
   "source": [
    "f_path = '/media/data/hamburg-dependency-treebank-conll'\n",
    "file_tpl = 'part_{}.conll'"
   ]
  },
  {
   "cell_type": "code",
   "execution_count": 4,
   "metadata": {
    "collapsed": false,
    "scrolled": true
   },
   "outputs": [
    {
     "name": "stderr",
     "output_type": "stream",
     "text": [
      "/home/quickbeam/ilia_dev/python/miniconda/envs/nltk3/lib/python3.5/site-packages/nltk/parse/dependencygraph.py:378: UserWarning: The graph doesn't contain a node that depends on the root element.\n",
      "  \"The graph doesn't contain a node \"\n"
     ]
    }
   ],
   "source": [
    "hdtgr = load_tab_delim_hdt(f_path + '/' + file_tpl.format('C'))"
   ]
  },
  {
   "cell_type": "markdown",
   "metadata": {},
   "source": [
    "### Generating Stuff (cleanly!)"
   ]
  },
  {
   "cell_type": "code",
   "execution_count": 25,
   "metadata": {
    "collapsed": false
   },
   "outputs": [],
   "source": [
    "gen = lstm_net.cost_model.get_top_bricks()[-1]"
   ]
  },
  {
   "cell_type": "code",
   "execution_count": 27,
   "metadata": {
    "collapsed": true
   },
   "outputs": [],
   "source": [
    "from blocks.graph import ComputationGraph"
   ]
  },
  {
   "cell_type": "code",
   "execution_count": 28,
   "metadata": {
    "collapsed": false
   },
   "outputs": [],
   "source": [
    "sampler = ComputationGraph(gen.generate(n_steps=10, batch_size=1, iterate=True)).get_theano_function()"
   ]
  },
  {
   "cell_type": "code",
   "execution_count": 31,
   "metadata": {
    "collapsed": false
   },
   "outputs": [],
   "source": [
    "s = sampler()"
   ]
  },
  {
   "cell_type": "code",
   "execution_count": 36,
   "metadata": {
    "collapsed": true
   },
   "outputs": [
    {
     "data": {
      "text/plain": [
       "[(10, 1, 512),\n",
       " (10, 1, 512),\n",
       " (10, 1, 512),\n",
       " (10, 1, 512),\n",
       " (10, 1, 512),\n",
       " (10, 1, 512),\n",
       " (10, 1),\n",
       " (10, 1)]"
      ]
     },
     "execution_count": 36,
     "metadata": {},
     "output_type": "execute_result"
    }
   ],
   "source": [
    "[x.shape for x in s]"
   ]
  },
  {
   "cell_type": "code",
   "execution_count": 38,
   "metadata": {
    "collapsed": false
   },
   "outputs": [
    {
     "data": {
      "text/plain": [
       "['states', 'cells', 'states#1', 'cells#1', 'states#2', 'cells#2']"
      ]
     },
     "execution_count": 38,
     "metadata": {},
     "output_type": "execute_result"
    }
   ],
   "source": [
    "gen._state_names"
   ]
  },
  {
   "cell_type": "code",
   "execution_count": 39,
   "metadata": {
    "collapsed": true
   },
   "outputs": [],
   "source": [
    "s2 = sampler()"
   ]
  },
  {
   "cell_type": "code",
   "execution_count": 45,
   "metadata": {
    "collapsed": false
   },
   "outputs": [
    {
     "data": {
      "text/plain": [
       "False"
      ]
     },
     "execution_count": 45,
     "metadata": {},
     "output_type": "execute_result"
    }
   ],
   "source": [
    "np.array_equal(s2[-2], s[-2])"
   ]
  },
  {
   "cell_type": "markdown",
   "metadata": {},
   "source": [
    "## Linux Kernel prep to train"
   ]
  },
  {
   "cell_type": "code",
   "execution_count": 3,
   "metadata": {
    "collapsed": true
   },
   "outputs": [],
   "source": [
    "lk_vocab = np.load('/media/data/lk-no-comments/lk_ix2char.npy')"
   ]
  },
  {
   "cell_type": "code",
   "execution_count": null,
   "metadata": {
    "collapsed": true
   },
   "outputs": [],
   "source": [
    "np.save('data/lk_onehot_size.npy', 96)"
   ]
  },
  {
   "cell_type": "code",
   "execution_count": 20,
   "metadata": {
    "collapsed": false
   },
   "outputs": [
    {
     "data": {
      "text/plain": [
       "array(96)"
      ]
     },
     "execution_count": 20,
     "metadata": {},
     "output_type": "execute_result"
    }
   ],
   "source": [
    "np.load('data/lk_onehot_size.npy')"
   ]
  },
  {
   "cell_type": "code",
   "execution_count": 13,
   "metadata": {
    "collapsed": false
   },
   "outputs": [],
   "source": [
    "v_bible = np.load('data/onehot_size.npy')"
   ]
  },
  {
   "cell_type": "code",
   "execution_count": 17,
   "metadata": {
    "collapsed": false
   },
   "outputs": [
    {
     "data": {
      "text/plain": [
       "array(77L, dtype=int64)"
      ]
     },
     "execution_count": 17,
     "metadata": {},
     "output_type": "execute_result"
    }
   ],
   "source": [
    "v_bible"
   ]
  }
 ],
 "metadata": {
  "kernelspec": {
   "display_name": "Python 3",
   "language": "python",
   "name": "python3"
  },
  "language_info": {
   "codemirror_mode": {
    "name": "ipython",
    "version": 3
   },
   "file_extension": ".py",
   "mimetype": "text/x-python",
   "name": "python",
   "nbconvert_exporter": "python",
   "pygments_lexer": "ipython3",
   "version": "3.5.1"
  }
 },
 "nbformat": 4,
 "nbformat_minor": 0
}
