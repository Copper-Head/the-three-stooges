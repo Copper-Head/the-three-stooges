{
 "cells": [
  {
   "cell_type": "code",
   "execution_count": 1,
   "metadata": {
    "collapsed": false
   },
   "outputs": [
    {
     "name": "stderr",
     "output_type": "stream",
     "text": [
      "Using gpu device 1: GeForce GTX TITAN X (CNMeM is disabled, cuDNN 5005)\n"
     ]
    }
   ],
   "source": [
    "import cPickle\n",
    "\n",
    "# Plotting stuff\n",
    "import matplotlib\n",
    "# For a while I could only prevent GTK loading by using matlab in PDF mode\n",
    "# but apparently we could get away with just setting inline\n",
    "# matplotlib.use(\"Pdf\")\n",
    "%matplotlib inline\n",
    "import matplotlib.pyplot as plt\n",
    "\n",
    "import numpy as np\n",
    "from blocks.extensions.saveload import load"
   ]
  },
  {
   "cell_type": "code",
   "execution_count": 2,
   "metadata": {
    "collapsed": true
   },
   "outputs": [],
   "source": [
    "rnn_type = 'lstm'\n",
    "\n",
    "ml = load(open(\"seqgen_\" + rnn_type + \".pkl\"))\n",
    "rnn_sample = ml.model.get_theano_function()\n",
    "\n",
    "param_dict = ml.model.get_parameter_dict()\n",
    "\n",
    "char_to_ind = cPickle.load(open(\"char_to_ind.pkl\"))"
   ]
  },
  {
   "cell_type": "code",
   "execution_count": 3,
   "metadata": {
    "collapsed": false
   },
   "outputs": [],
   "source": [
    "def get_model_var(layer_n, var_type):\n",
    "#     value_type can either be \"state\" or \"cells\"\n",
    "    cg_path_tpl = \"/sequencegenerator/with_fake_attention/transition/layer#{0}.initial_{1}\"\n",
    "    return param_dict[cg_path_tpl.format(layer_n, var_type)]"
   ]
  },
  {
   "cell_type": "code",
   "execution_count": 4,
   "metadata": {
    "collapsed": true
   },
   "outputs": [],
   "source": [
    "def lstm_reads(chr_seq):\n",
    "    \n",
    "    init_state0 = get_model_var(0, 'state')\n",
    "    init_state1 = get_model_var(1, 'state')\n",
    "    init_state2 = get_model_var(2, 'state')\n",
    "    init_cells0 = get_model_var(0, 'cells')\n",
    "    init_cells1 = get_model_var(1, 'cells')\n",
    "    init_cells2 = get_model_var(2, 'cells')\n",
    "    \n",
    "    chr_ids = [char_to_ind[char] for char in chr_seq]\n",
    "    memory_cells = []\n",
    "    for chr_id in chr_ids:\n",
    "        new_state0, new_cells0, new_state1, new_cells1, new_state2, new_cells2, current_char, cost = rnn_sample([[chr_id]])\n",
    "        init_state0.set_value(new_state0[0][0])\n",
    "        init_state1.set_value(new_state1[0][0])\n",
    "        init_state2.set_value(new_state2[0][0])\n",
    "        init_cells0.set_value(new_cells0[0][0])\n",
    "        init_cells1.set_value(new_cells1[0][0])\n",
    "        init_cells2.set_value(new_cells2[0][0])\n",
    "        vals = init_cells2.get_value()\n",
    "        memory_cells.append(vals)\n",
    "    \n",
    "    return (np.column_stack(memory_cells), np.array(chr_ids))\n",
    "        "
   ]
  },
  {
   "cell_type": "markdown",
   "metadata": {},
   "source": [
    "## Going through character sequence"
   ]
  },
  {
   "cell_type": "code",
   "execution_count": 5,
   "metadata": {
    "collapsed": false
   },
   "outputs": [],
   "source": [
    "cats = lstm_reads('cats')"
   ]
  },
  {
   "cell_type": "markdown",
   "metadata": {},
   "source": [
    "### Plotting Stuff...\n",
    "\n",
    "This for now is just a demo of how easy it is to get at the various components of an NN and plot them"
   ]
  },
  {
   "cell_type": "code",
   "execution_count": 19,
   "metadata": {
    "collapsed": false
   },
   "outputs": [
    {
     "data": {
      "image/png": "[encoded data removed]",
      "text/plain": [
       "<matplotlib.figure.Figure at 0x7f63e9bf9710>"
      ]
     },
     "metadata": {},
     "output_type": "display_data"
    }
   ],
   "source": [
    "# ranges from 0 to len(input_char_seq) - 1\n",
    "input_positions = np.arange(len(cats[1])) \n",
    "plt.plot(input_positions, cats[0][6])\n",
    "plt.ylabel(\"Memory Cell Activation\")\n",
    "plt.xlabel(\"Character Sequence\")\n",
    "# sets char IDs as tick labels on the X axis\n",
    "plt.xticks(input_positions, cats[1])\n",
    "plt.show()"
   ]
  }
 ],
 "metadata": {
  "kernelspec": {
   "display_name": "Python 2",
   "language": "python",
   "name": "python2"
  },
  "language_info": {
   "codemirror_mode": {
    "name": "ipython",
    "version": 2
   },
   "file_extension": ".py",
   "mimetype": "text/x-python",
   "name": "python",
   "nbconvert_exporter": "python",
   "pygments_lexer": "ipython2",
   "version": "2.7.6"
  }
 },
 "nbformat": 4,
 "nbformat_minor": 0
}
